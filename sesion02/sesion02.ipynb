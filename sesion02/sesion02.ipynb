{
 "cells": [
  {
   "cell_type": "code",
   "execution_count": 1,
   "id": "7c960d0e",
   "metadata": {},
   "outputs": [],
   "source": [
    "lado1 = 3\n",
    "lado2 = 6\n",
    "lado3 = 8"
   ]
  },
  {
   "cell_type": "code",
   "execution_count": 2,
   "id": "3811273d",
   "metadata": {},
   "outputs": [
    {
     "name": "stdout",
     "output_type": "stream",
     "text": [
      "Prueba 1: True\n",
      "Prueba 2: True\n",
      "Prueba 3: True\n"
     ]
    }
   ],
   "source": [
    "prueba1 = lado1 < lado2 + lado3 # 3 < 6 + 8 | 3 < 14 -> True\n",
    "prueba2 = lado2 < lado1 + lado3 # 6 < 3 + 8 | 6 < 11 -> True\n",
    "prueba3 = lado3 < lado1 + lado2 # 8 < 3 + 6 | 8 < 9 -> True\n",
    "\n",
    "print(\"Prueba 1:\", prueba1)\n",
    "print(\"Prueba 2:\", prueba2)\n",
    "print(\"Prueba 3:\", prueba3)"
   ]
  },
  {
   "cell_type": "markdown",
   "id": "a317d38e",
   "metadata": {},
   "source": [
    "```\n",
    "if <condición>:\n",
    "    <sentencia 1>\n",
    "    <sentencia 2>\n",
    "    ...\n",
    "    <sentencia n>\n",
    "else:\n",
    "    <sentencia alternativa>\n",
    "```"
   ]
  },
  {
   "cell_type": "code",
   "execution_count": 3,
   "id": "a33aefb1",
   "metadata": {},
   "outputs": [
    {
     "name": "stdout",
     "output_type": "stream",
     "text": [
      "Área: 7.644442425710328\n"
     ]
    }
   ],
   "source": [
    "if prueba1 and prueba2 and prueba3:\n",
    "    s = (lado1 + lado2 + lado3) / 2\n",
    "    area = (s * (s - lado1) * (s - lado2) * (s - lado3)) ** 0.5\n",
    "    print(\"Área:\", area)\n",
    "else:\n",
    "    print(\"Error: El triángulo no es válido\")"
   ]
  },
  {
   "cell_type": "markdown",
   "id": "c195e08c",
   "metadata": {},
   "source": [
    "```py\n",
    "if <codición 1>:\n",
    "    <sentencia 1>\n",
    "    ...\n",
    "elif <codición 2>:\n",
    "    <sentencia 2>\n",
    "    ...\n",
    "elif ...:\n",
    "    ...\n",
    "else:\n",
    "    <sentencia alternativa>\n",
    "    ...\n",
    "```"
   ]
  },
  {
   "cell_type": "code",
   "execution_count": null,
   "id": "79c6e4a0",
   "metadata": {},
   "outputs": [
    {
     "name": "stdout",
     "output_type": "stream",
     "text": [
      "A, B y C son máximos\n"
     ]
    }
   ],
   "source": [
    "a = 3\n",
    "b = 3\n",
    "c = 3\n",
    "\n",
    "if a > b:\n",
    "    if a > c:\n",
    "        print(\"A es el máximo\")\n",
    "    else:\n",
    "        print(\"C sea el máximo\")\n",
    "elif b > a:\n",
    "    if b > c:\n",
    "        print(\"B es el máximo\")\n",
    "    else:\n",
    "        print(\"C es el máximo\")\n",
    "else:\n",
    "    if c > a and c > b:\n",
    "        print(\"C es el máximo\")\n",
    "    elif c < a and c < b:\n",
    "        print(\"A y B son máximos\")\n",
    "    else:\n",
    "        print(\"A, B y C son máximos\")"
   ]
  },
  {
   "cell_type": "markdown",
   "id": "e80e1e92",
   "metadata": {},
   "source": [
    "## Listas\n",
    "\n",
    "Las listas son valores o elementos dispuestos entre corchetes que quedan **automáticamente indexados** y se pueden acceder en cualquier momento, por ejemplo, para almacenar múltiples edades, precios, salarios, nombres, pruebas lógicas, etc.\n",
    "\n",
    "> SINTAXIS: Creación o definición de la lista\n",
    "\n",
    "```python\n",
    "[<valor 1>, <valor 2>, <valor 3>, ..., <valor n>]\n",
    "```\n",
    "\n",
    "Cada valor dispuesto en lista debe separarse por una coma y de preferencia mantener el mismo tipo de datos (no obligatorio).\n",
    "\n",
    "Cada elemento quedará indexado automáticamente y podremos recuperar los valores de la lista a través de su índice."
   ]
  },
  {
   "cell_type": "markdown",
   "id": "ddcc15c5",
   "metadata": {},
   "source": [
    "> Ejemplo 1: Lista de edades"
   ]
  },
  {
   "cell_type": "code",
   "execution_count": 8,
   "id": "31c8456c",
   "metadata": {},
   "outputs": [],
   "source": [
    "edades = [23, 45, 56, 76, 43, 32, 17, 98, 25, 14]"
   ]
  },
  {
   "cell_type": "markdown",
   "id": "94293c4a",
   "metadata": {},
   "source": [
    "Operadores o funciones de lista:\n",
    "\n",
    "* `min(<lista>)` - Devuelve el valor mínimo dentro de la lista\n",
    "* `max(<lista>)` - Devuelve el valor máximo dentro de la lista\n",
    "* `sum(<lista>)` - Devuelve la suma de todos los valores de la lista\n",
    "* `len(<lista>)` - Devuelve el total de elementos en la lista\n",
    "* `sorted(<lista>)` - Devuelve la lista ordenada de menor a mayor\n",
    "* `sorted(<lista>, reverse=True)` - Devuelve la lista ordenada de mayor a menor"
   ]
  },
  {
   "cell_type": "markdown",
   "id": "7ddd30a1",
   "metadata": {},
   "source": [
    "Se calcula la edad mínima"
   ]
  },
  {
   "cell_type": "code",
   "execution_count": 10,
   "id": "c8a6ecd2",
   "metadata": {},
   "outputs": [
    {
     "data": {
      "text/plain": [
       "14"
      ]
     },
     "execution_count": 10,
     "metadata": {},
     "output_type": "execute_result"
    }
   ],
   "source": [
    "min(edades)"
   ]
  },
  {
   "cell_type": "markdown",
   "id": "ae62d849",
   "metadata": {},
   "source": [
    "Se calcula la edad máxima"
   ]
  },
  {
   "cell_type": "code",
   "execution_count": 11,
   "id": "0aa2be83",
   "metadata": {},
   "outputs": [
    {
     "data": {
      "text/plain": [
       "98"
      ]
     },
     "execution_count": 11,
     "metadata": {},
     "output_type": "execute_result"
    }
   ],
   "source": [
    "max(edades)"
   ]
  },
  {
   "cell_type": "markdown",
   "id": "582eb899",
   "metadata": {},
   "source": [
    "Se obtiene la suma de las edades"
   ]
  },
  {
   "cell_type": "code",
   "execution_count": 12,
   "id": "e80d14d0",
   "metadata": {},
   "outputs": [
    {
     "data": {
      "text/plain": [
       "429"
      ]
     },
     "execution_count": 12,
     "metadata": {},
     "output_type": "execute_result"
    }
   ],
   "source": [
    "sum(edades)"
   ]
  },
  {
   "cell_type": "markdown",
   "id": "a076fbdb",
   "metadata": {},
   "source": [
    "Se calcula el número de edades (total de elementos)"
   ]
  },
  {
   "cell_type": "code",
   "execution_count": 13,
   "id": "7844d254",
   "metadata": {},
   "outputs": [
    {
     "data": {
      "text/plain": [
       "10"
      ]
     },
     "execution_count": 13,
     "metadata": {},
     "output_type": "execute_result"
    }
   ],
   "source": [
    "len(edades)"
   ]
  },
  {
   "cell_type": "markdown",
   "id": "0246b069",
   "metadata": {},
   "source": [
    "Se ordena la lista (en forma ascendente)"
   ]
  },
  {
   "cell_type": "code",
   "execution_count": 14,
   "id": "f62153cd",
   "metadata": {},
   "outputs": [
    {
     "data": {
      "text/plain": [
       "[14, 17, 23, 25, 32, 43, 45, 56, 76, 98]"
      ]
     },
     "execution_count": 14,
     "metadata": {},
     "output_type": "execute_result"
    }
   ],
   "source": [
    "sorted(edades)"
   ]
  },
  {
   "cell_type": "markdown",
   "id": "8d2569bc",
   "metadata": {},
   "source": [
    "Se ordena la lista al revés (de mayor a menor)"
   ]
  },
  {
   "cell_type": "code",
   "execution_count": 15,
   "id": "30c70919",
   "metadata": {},
   "outputs": [
    {
     "data": {
      "text/plain": [
       "[98, 76, 56, 45, 43, 32, 25, 23, 17, 14]"
      ]
     },
     "execution_count": 15,
     "metadata": {},
     "output_type": "execute_result"
    }
   ],
   "source": [
    "sorted(edades, reverse=True)"
   ]
  },
  {
   "cell_type": "markdown",
   "id": "9a504d2c",
   "metadata": {},
   "source": [
    "Ejercicios:\n",
    "\n",
    "1. Calcular el rango de las edades (edad máximo menos edad mínima)\n",
    "2. Calcular la edad promedio (suma de las edades entre el número de edades)\n",
    "3. Calcular el cuadrado de la sumas de edades (suma de las edades elevadas al cuadradado)\n",
    "4. Caluclar la raíz cuadrada de la edad máxima (la edad máxima elevada a la un medio o cero punto cinco)\n",
    "\n",
    "Retos:\n",
    "\n",
    "* Calcular la razón entre la edad máxima sobre la edad mínima\n",
    "* Calcular la razón entre la edad máxima y la edad promedio\n",
    "* Calcular la razón entre la edad promedio y la edad mímina\n",
    "* ¿Qué representa cada razón? Por ejemplo, ¿Qué significa el valor de la razón entre la edad promedio y la edad mínima?"
   ]
  },
  {
   "cell_type": "markdown",
   "id": "619c6ed1",
   "metadata": {},
   "source": [
    "> Ejercicio 1: Rango de las edades"
   ]
  },
  {
   "cell_type": "markdown",
   "id": "f0887b99",
   "metadata": {},
   "source": [
    "Usando variables"
   ]
  },
  {
   "cell_type": "code",
   "execution_count": 17,
   "id": "38222c26",
   "metadata": {},
   "outputs": [
    {
     "name": "stdout",
     "output_type": "stream",
     "text": [
      "Rango: 84\n"
     ]
    }
   ],
   "source": [
    "a = min(edades)\n",
    "b = max(edades)\n",
    "\n",
    "rango = b - a\n",
    "\n",
    "print(\"Rango:\", rango)"
   ]
  },
  {
   "cell_type": "markdown",
   "id": "004a4cf0",
   "metadata": {},
   "source": [
    "En forma directa"
   ]
  },
  {
   "cell_type": "code",
   "execution_count": 18,
   "id": "6a1cfdc0",
   "metadata": {},
   "outputs": [
    {
     "data": {
      "text/plain": [
       "84"
      ]
     },
     "execution_count": 18,
     "metadata": {},
     "output_type": "execute_result"
    }
   ],
   "source": [
    "max(edades) - min(edades)"
   ]
  },
  {
   "cell_type": "markdown",
   "id": "21a661e1",
   "metadata": {},
   "source": [
    "### Manejo de índices\n",
    "\n",
    "Los elementos dentro de la lista quedan **automáticamente indexados**, esto significa que podemos recuperar los valores de la lista a través de su índice.\n",
    "\n",
    "Python maneja índices posisitivos que parten de `0` hasta `n - 1`, donde `n` es el número de elementos y para los negativos desde `-1` hasta `-n`.\n",
    "\n",
    "Por ejemplo, para la lista de edades tenemos:\n",
    "\n",
    "```python\n",
    "edades = [23, 45, 56, 76, 43, 32, 17, 98, 25, 14]\n",
    "```"
   ]
  },
  {
   "cell_type": "markdown",
   "id": "bd7d791e",
   "metadata": {},
   "source": [
    "Primera edad"
   ]
  },
  {
   "cell_type": "code",
   "execution_count": 19,
   "id": "41cdb849",
   "metadata": {},
   "outputs": [
    {
     "data": {
      "text/plain": [
       "23"
      ]
     },
     "execution_count": 19,
     "metadata": {},
     "output_type": "execute_result"
    }
   ],
   "source": [
    "edades[0]"
   ]
  },
  {
   "cell_type": "markdown",
   "id": "f66fcbd9",
   "metadata": {},
   "source": [
    "Última edad"
   ]
  },
  {
   "cell_type": "code",
   "execution_count": 20,
   "id": "aed9027a",
   "metadata": {},
   "outputs": [
    {
     "data": {
      "text/plain": [
       "14"
      ]
     },
     "execution_count": 20,
     "metadata": {},
     "output_type": "execute_result"
    }
   ],
   "source": [
    "edades[9]"
   ]
  },
  {
   "cell_type": "markdown",
   "id": "107700da",
   "metadata": {},
   "source": [
    "El cuarto elemento tiene índice 3"
   ]
  },
  {
   "cell_type": "code",
   "execution_count": 21,
   "id": "4cfcc6ab",
   "metadata": {},
   "outputs": [
    {
     "data": {
      "text/plain": [
       "76"
      ]
     },
     "execution_count": 21,
     "metadata": {},
     "output_type": "execute_result"
    }
   ],
   "source": [
    "edades[3]"
   ]
  },
  {
   "cell_type": "markdown",
   "id": "d4aed4f4",
   "metadata": {},
   "source": [
    "El último elemento"
   ]
  },
  {
   "cell_type": "code",
   "execution_count": 23,
   "id": "b74829eb",
   "metadata": {},
   "outputs": [
    {
     "data": {
      "text/plain": [
       "14"
      ]
     },
     "execution_count": 23,
     "metadata": {},
     "output_type": "execute_result"
    }
   ],
   "source": [
    "edades[-1]"
   ]
  },
  {
   "cell_type": "markdown",
   "id": "cb6a1555",
   "metadata": {},
   "source": [
    "El penúltimo elemento"
   ]
  },
  {
   "cell_type": "code",
   "execution_count": 24,
   "id": "d9b00bad",
   "metadata": {},
   "outputs": [
    {
     "data": {
      "text/plain": [
       "25"
      ]
     },
     "execution_count": 24,
     "metadata": {},
     "output_type": "execute_result"
    }
   ],
   "source": [
    "edades[-2]"
   ]
  },
  {
   "cell_type": "markdown",
   "id": "b36fec35",
   "metadata": {},
   "source": [
    "El antepenúltimo elemento"
   ]
  },
  {
   "cell_type": "code",
   "execution_count": 25,
   "id": "a63273cf",
   "metadata": {},
   "outputs": [
    {
     "data": {
      "text/plain": [
       "98"
      ]
     },
     "execution_count": 25,
     "metadata": {},
     "output_type": "execute_result"
    }
   ],
   "source": [
    "edades[-3]"
   ]
  },
  {
   "cell_type": "markdown",
   "id": "cd0c6029",
   "metadata": {},
   "source": [
    "El primero elemento (en forma negativa)"
   ]
  },
  {
   "cell_type": "code",
   "execution_count": 26,
   "id": "1ef9ea3b",
   "metadata": {},
   "outputs": [
    {
     "data": {
      "text/plain": [
       "23"
      ]
     },
     "execution_count": 26,
     "metadata": {},
     "output_type": "execute_result"
    }
   ],
   "source": [
    "edades[-10]"
   ]
  },
  {
   "cell_type": "markdown",
   "id": "cb7f2d73",
   "metadata": {},
   "source": [
    "Sublista desde el índice inicial hasta el índice final (sin tocarlo)"
   ]
  },
  {
   "cell_type": "code",
   "execution_count": null,
   "id": "fe0a08b1",
   "metadata": {},
   "outputs": [
    {
     "data": {
      "text/plain": [
       "[76, 43, 32, 17]"
      ]
     },
     "execution_count": 27,
     "metadata": {},
     "output_type": "execute_result"
    }
   ],
   "source": [
    "edades[3:7] # índices: 3, 4, 5, 6 | valores: 76, 43, 32, 17\n",
    "# No toca el borde de índice 7"
   ]
  },
  {
   "cell_type": "markdown",
   "id": "84a129ef",
   "metadata": {},
   "source": [
    "Sublista inicial `[0:k] -> [:k]` (desde el inicio hasta k)"
   ]
  },
  {
   "cell_type": "code",
   "execution_count": 29,
   "id": "367ff192",
   "metadata": {},
   "outputs": [
    {
     "data": {
      "text/plain": [
       "[23, 45, 56, 76, 43]"
      ]
     },
     "execution_count": 29,
     "metadata": {},
     "output_type": "execute_result"
    }
   ],
   "source": [
    "edades[0:5]"
   ]
  },
  {
   "cell_type": "code",
   "execution_count": 30,
   "id": "c60ac9fd",
   "metadata": {},
   "outputs": [
    {
     "data": {
      "text/plain": [
       "[23, 45, 56, 76, 43]"
      ]
     },
     "execution_count": 30,
     "metadata": {},
     "output_type": "execute_result"
    }
   ],
   "source": [
    "edades[:5]"
   ]
  },
  {
   "cell_type": "markdown",
   "id": "0cbb3c1f",
   "metadata": {},
   "source": [
    "Sublista final `[-k:n] -> [-k:]` (desde -k hasta el final)"
   ]
  },
  {
   "cell_type": "code",
   "execution_count": 31,
   "id": "632e5fa7",
   "metadata": {},
   "outputs": [
    {
     "data": {
      "text/plain": [
       "[32, 17, 98, 25, 14]"
      ]
     },
     "execution_count": 31,
     "metadata": {},
     "output_type": "execute_result"
    }
   ],
   "source": [
    "edades[-5:]"
   ]
  },
  {
   "cell_type": "markdown",
   "id": "2ee34068",
   "metadata": {},
   "source": [
    "Desde el índice 3 hasta el final"
   ]
  },
  {
   "cell_type": "code",
   "execution_count": 33,
   "id": "9dde7e0b",
   "metadata": {},
   "outputs": [
    {
     "data": {
      "text/plain": [
       "[76, 43, 32, 17, 98, 25, 14]"
      ]
     },
     "execution_count": 33,
     "metadata": {},
     "output_type": "execute_result"
    }
   ],
   "source": [
    "edades[3:]"
   ]
  },
  {
   "cell_type": "markdown",
   "id": "06d7f177",
   "metadata": {},
   "source": [
    "Desde el inicio hasta el índice 6 (inclusive)"
   ]
  },
  {
   "cell_type": "code",
   "execution_count": 35,
   "id": "35dde17a",
   "metadata": {},
   "outputs": [
    {
     "data": {
      "text/plain": [
       "[23, 45, 56, 76, 43, 32, 17]"
      ]
     },
     "execution_count": 35,
     "metadata": {},
     "output_type": "execute_result"
    }
   ],
   "source": [
    "edades[:7]"
   ]
  },
  {
   "cell_type": "markdown",
   "id": "c3fb54cd",
   "metadata": {},
   "source": [
    "Ejercicios:\n",
    "\n",
    "1. Determinar las 3 edades inferiores (más pequeñas)\n",
    "2. Determinar las 3 edades superiorer (más grandes)\n",
    "3. Calcular la suma de las edades inferiores\n",
    "4. Calcular la suma de las edades superiores\n",
    "5. Calcular el promedio de las edades inferiorer\n",
    "6. Calcular el promedio de las edades superiores\n",
    "7. Cacular la razón entre el promedio superior sobre el promedio inferior.\n",
    "8. ¿Cómo cambia la razón del promedio superior contra el inferior respecto a la razón del máximo entre el mínimo?"
   ]
  },
  {
   "cell_type": "code",
   "execution_count": 36,
   "id": "acc59c0c",
   "metadata": {},
   "outputs": [
    {
     "data": {
      "text/plain": [
       "[23, 45, 56, 76, 43, 32, 17, 98, 25, 14]"
      ]
     },
     "execution_count": 36,
     "metadata": {},
     "output_type": "execute_result"
    }
   ],
   "source": [
    "edades"
   ]
  },
  {
   "cell_type": "code",
   "execution_count": 38,
   "id": "8aad081a",
   "metadata": {},
   "outputs": [
    {
     "data": {
      "text/plain": [
       "[14, 17, 23, 25, 32, 43, 45, 56, 76, 98]"
      ]
     },
     "execution_count": 38,
     "metadata": {},
     "output_type": "execute_result"
    }
   ],
   "source": [
    "edades_ordenadas = sorted(edades)\n",
    "edades_ordenadas"
   ]
  },
  {
   "cell_type": "code",
   "execution_count": 39,
   "id": "5849416d",
   "metadata": {},
   "outputs": [
    {
     "data": {
      "text/plain": [
       "[14, 17, 23]"
      ]
     },
     "execution_count": 39,
     "metadata": {},
     "output_type": "execute_result"
    }
   ],
   "source": [
    "edades_ordenadas[:3]"
   ]
  },
  {
   "cell_type": "code",
   "execution_count": 40,
   "id": "1c1f1fe5",
   "metadata": {},
   "outputs": [
    {
     "data": {
      "text/plain": [
       "[56, 76, 98]"
      ]
     },
     "execution_count": 40,
     "metadata": {},
     "output_type": "execute_result"
    }
   ],
   "source": [
    "edades_ordenadas[-3:]"
   ]
  },
  {
   "cell_type": "code",
   "execution_count": 41,
   "id": "7ff253da",
   "metadata": {},
   "outputs": [
    {
     "name": "stdout",
     "output_type": "stream",
     "text": [
      "Suma inferior 54\n",
      "Suma superior 230\n"
     ]
    }
   ],
   "source": [
    "suma_inferior = sum(edades_ordenadas[:3])\n",
    "suma_superior = sum(edades_ordenadas[-3:])\n",
    "\n",
    "print(\"Suma inferior\", suma_inferior)\n",
    "print(\"Suma superior\", suma_superior)"
   ]
  },
  {
   "cell_type": "code",
   "execution_count": 42,
   "id": "8e9e1b68",
   "metadata": {},
   "outputs": [
    {
     "name": "stdout",
     "output_type": "stream",
     "text": [
      "Promedio inferior: 18.0\n",
      "Promedio superior: 76.66666666666667\n"
     ]
    }
   ],
   "source": [
    "promedio_inferior = suma_inferior / 3\n",
    "promedio_superior = suma_superior / 3\n",
    "\n",
    "print(\"Promedio inferior:\", promedio_inferior)\n",
    "print(\"Promedio superior:\", promedio_superior)"
   ]
  },
  {
   "cell_type": "code",
   "execution_count": 43,
   "id": "8fe35fc2",
   "metadata": {},
   "outputs": [
    {
     "data": {
      "text/plain": [
       "4.2592592592592595"
      ]
     },
     "execution_count": 43,
     "metadata": {},
     "output_type": "execute_result"
    }
   ],
   "source": [
    "promedio_superior / promedio_inferior"
   ]
  },
  {
   "cell_type": "markdown",
   "id": "eb1c9b8b",
   "metadata": {},
   "source": [
    "## Iteradores\n",
    "\n",
    "Los iteradores son estructuras de control como las condicionales `if`, pero que a diferencia de estas, se centran en recorrer elementos dentro de una secuencia.\n",
    "\n",
    "Una secuencia es un objeto de python que se puede recorrer elemento por elemento (valor por valor), desde un valor inicial hasta un valor final como las listas o los rangos.\n",
    "\n",
    "Un rango es una función que devuelve una secuencia del siguiente elemento al siguiente elemento, partiendo de un valor inicial y concluyendo en una valor final (previo).\n",
    "\n",
    "Por ejemplo, si queremos una secuencia en el rango de los números del 1 al 100, tendríamos:\n",
    "\n",
    "```python\n",
    "secuencia = range(1, 101) # Genera la secuencial del 1 hasta el 100 (inclusive)\n",
    "```\n",
    "\n",
    "Para recorrer los elementos de una secuencia usamos el iterador `for` cuya sintaxis es:\n",
    "\n",
    "> SINTAXIS: Iterador `for`\n",
    "\n",
    "```python\n",
    "for <elemento> in <secuencia>:\n",
    "    <sentencia repetida>\n",
    "    ...\n",
    "```"
   ]
  },
  {
   "cell_type": "markdown",
   "id": "ac3c1b61",
   "metadata": {},
   "source": [
    "Imprimir los elementos del 1 al 100 (inclusive) usando el rango que genere la secuencia de valores y un iterador para tomar cada elemento de la secuencia (llamándole `i`), e imprimirlo dentro del bloque"
   ]
  },
  {
   "cell_type": "code",
   "execution_count": 1,
   "id": "7021ad7c",
   "metadata": {},
   "outputs": [
    {
     "name": "stdout",
     "output_type": "stream",
     "text": [
      "1\n",
      "2\n",
      "3\n",
      "4\n",
      "5\n",
      "6\n",
      "7\n",
      "8\n",
      "9\n",
      "10\n",
      "11\n",
      "12\n",
      "13\n",
      "14\n",
      "15\n",
      "16\n",
      "17\n",
      "18\n",
      "19\n",
      "20\n",
      "21\n",
      "22\n",
      "23\n",
      "24\n",
      "25\n",
      "26\n",
      "27\n",
      "28\n",
      "29\n",
      "30\n",
      "31\n",
      "32\n",
      "33\n",
      "34\n",
      "35\n",
      "36\n",
      "37\n",
      "38\n",
      "39\n",
      "40\n",
      "41\n",
      "42\n",
      "43\n",
      "44\n",
      "45\n",
      "46\n",
      "47\n",
      "48\n",
      "49\n",
      "50\n",
      "51\n",
      "52\n",
      "53\n",
      "54\n",
      "55\n",
      "56\n",
      "57\n",
      "58\n",
      "59\n",
      "60\n",
      "61\n",
      "62\n",
      "63\n",
      "64\n",
      "65\n",
      "66\n",
      "67\n",
      "68\n",
      "69\n",
      "70\n",
      "71\n",
      "72\n",
      "73\n",
      "74\n",
      "75\n",
      "76\n",
      "77\n",
      "78\n",
      "79\n",
      "80\n",
      "81\n",
      "82\n",
      "83\n",
      "84\n",
      "85\n",
      "86\n",
      "87\n",
      "88\n",
      "89\n",
      "90\n",
      "91\n",
      "92\n",
      "93\n",
      "94\n",
      "95\n",
      "96\n",
      "97\n",
      "98\n",
      "99\n",
      "100\n"
     ]
    }
   ],
   "source": [
    "for i in range(1, 101):\n",
    "    print(i)"
   ]
  },
  {
   "cell_type": "markdown",
   "id": "08f30052",
   "metadata": {},
   "source": [
    "Ejemplo: Calcular la suma de los valores del 1 al 100\n",
    "\n",
    "$$\n",
    "S = \\sum_{i = 1}^{100} i\n",
    "$$\n",
    "\n",
    "O de forma simple\n",
    "\n",
    "$$\n",
    "S = 1 + 2 + 3 + \\ldots + 100\n",
    "$$"
   ]
  },
  {
   "cell_type": "code",
   "execution_count": 2,
   "id": "94a933a9",
   "metadata": {},
   "outputs": [
    {
     "data": {
      "text/plain": [
       "5050"
      ]
     },
     "execution_count": 2,
     "metadata": {},
     "output_type": "execute_result"
    }
   ],
   "source": [
    "s = 0\n",
    "\n",
    "for i in range(1, 101):\n",
    "    s = s + i # Técnica de acumulación: \n",
    "              # La variable asigna el valor anterior más el nuevo valor\n",
    "\n",
    "s"
   ]
  },
  {
   "cell_type": "code",
   "execution_count": 4,
   "id": "c2821296",
   "metadata": {},
   "outputs": [
    {
     "data": {
      "text/plain": [
       "5050"
      ]
     },
     "execution_count": 4,
     "metadata": {},
     "output_type": "execute_result"
    }
   ],
   "source": [
    "valores = []\n",
    "\n",
    "for i in range(1, 101):\n",
    "    valores.append(i)\n",
    "\n",
    "sum(valores)"
   ]
  },
  {
   "cell_type": "markdown",
   "id": "62bea3b8",
   "metadata": {},
   "source": [
    "## Repositorio\n",
    "\n",
    "https://github.com/dragonnomada/ciencia-datos-basico-consar-2025"
   ]
  }
 ],
 "metadata": {
  "kernelspec": {
   "display_name": "Python 3",
   "language": "python",
   "name": "python3"
  },
  "language_info": {
   "codemirror_mode": {
    "name": "ipython",
    "version": 3
   },
   "file_extension": ".py",
   "mimetype": "text/x-python",
   "name": "python",
   "nbconvert_exporter": "python",
   "pygments_lexer": "ipython3",
   "version": "3.10.11"
  }
 },
 "nbformat": 4,
 "nbformat_minor": 5
}
