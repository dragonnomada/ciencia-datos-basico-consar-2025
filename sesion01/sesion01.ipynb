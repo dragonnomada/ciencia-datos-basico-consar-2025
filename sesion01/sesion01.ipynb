{
 "cells": [
  {
   "cell_type": "markdown",
   "id": "af9c1df0",
   "metadata": {},
   "source": [
    "# Sesión 1\n",
    "\n",
    "## Ciencia de Datos Nivel Básico\n",
    "\n",
    "![LOGO CONSAR](https://lasmasinnovadoras.com/wp-content/uploads/2022/07/consar.jpg)\n",
    "\n",
    "> **Alan Badillo Salas**\n",
    ">\n",
    "> *Lunes 8, septiembre 2025*"
   ]
  },
  {
   "cell_type": "markdown",
   "id": "ad465312",
   "metadata": {},
   "source": [
    "## Variables"
   ]
  },
  {
   "cell_type": "markdown",
   "id": "04b76a80",
   "metadata": {},
   "source": [
    "### Tipos de datos"
   ]
  },
  {
   "cell_type": "markdown",
   "id": "fe39e238",
   "metadata": {},
   "source": [
    "Python utiliza diferentes datos para almacenar y retener la información, entre los principales tenemos:\n",
    "\n",
    "* Números: enteros (`int`), decimales (`float`)\n",
    "* Textos: simple (`'str'`), dobles (`\"str\"`), formatos (`f'str'` o `f\"str\"`), triple (`'''str'''` o `\"\"\"str\"\"\"`), bytes (`b'str'` o `b\"str\"`), expresiones reguales (`r'pattern'` o `r\"pattern\"`)\n",
    "* Lógicos: verdadero (`True`) o falso (`False`)\n",
    "* Nulo: `None`"
   ]
  },
  {
   "cell_type": "code",
   "execution_count": 3,
   "id": "50b3a87b",
   "metadata": {},
   "outputs": [],
   "source": [
    "nombres = \"José Alberto\" # texto -> str\n",
    "apellido_paterno = \"Juárez\" # texto -> str\n",
    "apellido_materno = \"Bolaños\" # texto -> str\n",
    "\n",
    "edad = 44 # entero -> int\n",
    "\n",
    "deuda = 13578.95 # decimal -> float"
   ]
  },
  {
   "cell_type": "code",
   "execution_count": 4,
   "id": "d855707c",
   "metadata": {},
   "outputs": [
    {
     "data": {
      "text/plain": [
       "int"
      ]
     },
     "execution_count": 4,
     "metadata": {},
     "output_type": "execute_result"
    }
   ],
   "source": [
    "type(edad)"
   ]
  },
  {
   "cell_type": "markdown",
   "id": "c1302b93",
   "metadata": {},
   "source": [
    "> Ejercicio 1: Área de un triángulo"
   ]
  },
  {
   "cell_type": "markdown",
   "id": "6469ee4b",
   "metadata": {},
   "source": [
    "**Paso 1** - Solicitar los 3 lados"
   ]
  },
  {
   "cell_type": "code",
   "execution_count": 9,
   "id": "2d8e7ce1",
   "metadata": {},
   "outputs": [
    {
     "name": "stdout",
     "output_type": "stream",
     "text": [
      "Lado 1: 3\n",
      "Lado 2: 4\n",
      "Lado 3: 5\n"
     ]
    }
   ],
   "source": [
    "l1 = int(input(\"Dame el lado 1: \"))\n",
    "l2 = int(input(\"Dame el lado 2: \"))\n",
    "l3 = int(input(\"Dame el lado 3: \"))\n",
    "\n",
    "print(\"Lado 1:\", l1)\n",
    "print(\"Lado 2:\", l2)\n",
    "print(\"Lado 3:\", l3)"
   ]
  },
  {
   "cell_type": "markdown",
   "id": "ddedbeb6",
   "metadata": {},
   "source": [
    "**Paso 2** - Verificar que los lados sean menores que la suma de los otros"
   ]
  },
  {
   "cell_type": "code",
   "execution_count": 10,
   "id": "99b47c6f",
   "metadata": {},
   "outputs": [
    {
     "name": "stdout",
     "output_type": "stream",
     "text": [
      "P1:  True\n",
      "P2:  True\n",
      "P3:  True\n"
     ]
    }
   ],
   "source": [
    "p1 = l1 < l2 + l3 # Lógico -> True | False\n",
    "p2 = l2 < l1 + l3 # Lógico -> True | False\n",
    "p3 = l3 < l1 + l2 # Lógico -> True | False\n",
    "\n",
    "print(\"P1: \", p1)\n",
    "print(\"P2: \", p2)\n",
    "print(\"P3: \", p3)"
   ]
  },
  {
   "cell_type": "markdown",
   "id": "bccabbea",
   "metadata": {},
   "source": [
    "**Paso 3** - Calcular el área (de forma condicionada)"
   ]
  },
  {
   "cell_type": "code",
   "execution_count": 11,
   "id": "18889401",
   "metadata": {},
   "outputs": [
    {
     "name": "stdout",
     "output_type": "stream",
     "text": [
      "Área: 6.0\n"
     ]
    }
   ],
   "source": [
    "if p1 and p2 and p3:\n",
    "    s = (l1 + l2 + l3) / 2\n",
    "    area = (s * (s - l1) * (s - l2) * (s - l3)) ** 0.5\n",
    "    print(\"Área:\", area)\n",
    "else:\n",
    "    print(\"El triángulo no es válido\")"
   ]
  }
 ],
 "metadata": {
  "kernelspec": {
   "display_name": "Python 3",
   "language": "python",
   "name": "python3"
  },
  "language_info": {
   "codemirror_mode": {
    "name": "ipython",
    "version": 3
   },
   "file_extension": ".py",
   "mimetype": "text/x-python",
   "name": "python",
   "nbconvert_exporter": "python",
   "pygments_lexer": "ipython3",
   "version": "3.10.11"
  }
 },
 "nbformat": 4,
 "nbformat_minor": 5
}
