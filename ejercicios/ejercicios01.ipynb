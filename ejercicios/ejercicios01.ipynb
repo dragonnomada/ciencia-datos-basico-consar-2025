{
 "cells": [
  {
   "cell_type": "markdown",
   "id": "a9ec813c",
   "metadata": {},
   "source": [
    "# Serie 1 - Ejercicios de Python\n",
    "\n",
    "## Ciencia de Datos Nivel Básico\n",
    "\n",
    "![LOGO CONSAR](https://lasmasinnovadoras.com/wp-content/uploads/2022/07/consar.jpg)\n",
    "\n",
    "> **Alan Badillo Salas**\n",
    ">\n",
    "> *Viernes 12, septiembre 2025*"
   ]
  },
  {
   "cell_type": "markdown",
   "id": "e481b131",
   "metadata": {},
   "source": [
    "## Ejercicios sobre variables"
   ]
  },
  {
   "cell_type": "markdown",
   "id": "47ffbc36",
   "metadata": {},
   "source": [
    "### E001. Conversión de temperatura\n",
    "\n",
    "Crea una variable para retener la temperatura en grados y otra que determine los grados fahrenheit dada la fórmula:\n",
    "\n",
    "$$\n",
    "F = \\frac{9}{5} C + 32\n",
    "$$\n",
    "\n",
    "donde $C$ son los grados celsius definidos por el usuario y $F$ los grados fahrenheit calculados."
   ]
  },
  {
   "cell_type": "markdown",
   "id": "c8a562e2",
   "metadata": {},
   "source": [
    "### E002. Índice de masa corporal\n",
    "\n",
    "Crea dos variables para retener la altura (metros) y el peso (kilogramos) de una persona y determina el índice de masa corporal dada la fórmula:\n",
    "\n",
    "$$\n",
    "IMC = \\frac{peso}{estatura^2}\n",
    "$$\n",
    "\n",
    "donde $IMC$ representa una cantidad de masa corporal, según la tabla:\n",
    "\n",
    "IMC | Descripción\n",
    "--- | ---\n",
    "`<18.5` | Bajo de peso\n",
    "`18.5 a <25` | Peso normal\n",
    "`25 a <30` | Sobrepeso\n",
    "`30 a <35` | Obesidad tipo I\n",
    "`35 a <40` | Obesidad tipo II\n",
    "`40+` | Obesidad tipo III\n",
    "\n",
    "**Nota:** Solo calcula y reporta el IMC"
   ]
  },
  {
   "cell_type": "markdown",
   "id": "addd623e",
   "metadata": {},
   "source": [
    "### E003. Hipotenusa\n",
    "\n",
    "Determina el valor de la hipotenusa según el tamaño de los catetos (lados ortogonales del triángulo)\n",
    "\n",
    "$$\n",
    "hipotenusa = \\sqrt{(lado_1)^2 + (lado_2)^2}\n",
    "$$"
   ]
  },
  {
   "cell_type": "markdown",
   "id": "deff12d9",
   "metadata": {},
   "source": [
    "### E004. Distancia entre dos puntos\n",
    "\n",
    "Determina la distancia entre dos puntos $(x_1, y_1)$ y $(x_2, y_2)$ usando la ecuación de la distancia euclideana:\n",
    "\n",
    "$$\n",
    "distancia = \\sqrt{(x_1 - x_2)^2 + (y_1 - y_2)^2}\n",
    "$$"
   ]
  },
  {
   "cell_type": "markdown",
   "id": "23289707",
   "metadata": {},
   "source": [
    "### E005. Normalización *min-max*\n",
    "\n",
    "Determina el valor normalizado de $x$, dado el valor mínimo $a$ y el valor máximo $b$ dada la ecuación:\n",
    "\n",
    "$$\n",
    "x_{normalizado} = (x - a) / (b - a)\n",
    "$$\n",
    "\n",
    "Por ejemplo, calcula el valor normalizado de $x = 48$ para $a = 23$ y $b = 75$."
   ]
  },
  {
   "cell_type": "markdown",
   "id": "6d05f63b",
   "metadata": {},
   "source": [
    "## Ejercicios sobre captura de datos"
   ]
  },
  {
   "cell_type": "markdown",
   "id": "3db320b7",
   "metadata": {},
   "source": [
    "### E006 - Conversión de temperatura (dada por el usuario)\n",
    "\n",
    "Pregunta y convierte a decimal la temperatura en celsius y determina los grados frahrenheit.\n",
    "\n",
    "Pista: `celsius = float(input(\"Ingresa la temeperatura en °C\":))`"
   ]
  },
  {
   "cell_type": "markdown",
   "id": "e759d31f",
   "metadata": {},
   "source": [
    "### E007 - Índice corporal (dada por el usuario)\n",
    "\n",
    "Pregunta por la estatura y peso del usuario y convierte los valores a decimal para reportar (imprimir) el valor del *IMC*."
   ]
  },
  {
   "cell_type": "markdown",
   "id": "ca4f3869",
   "metadata": {},
   "source": [
    "### E008 - Hipotenusa (con datos dados por el usuario)\n",
    "\n",
    "Solicita los valores de los catetos ($lado_1$ y $lado_2$) y calcula el valor de la hipotenusa."
   ]
  },
  {
   "cell_type": "markdown",
   "id": "9a8c86cb",
   "metadata": {},
   "source": [
    "### E009 - Distancia entre dos puntos (dados por el usuario)\n",
    "\n",
    "Solicita las cuatro variables decimales: $x_1$, $y_1$, $x_2$ y $y_2$ y reporta el valor de la distancia entre los puntos."
   ]
  },
  {
   "cell_type": "markdown",
   "id": "6cf2a88c",
   "metadata": {},
   "source": [
    "### E010 - Normalización *min-max* (con datos dados por el usuario)\n",
    "\n",
    "Solicita el valor mínimo y máximo de una serie de datos y el dato $x$ de la serie y reporta el valor de $x_{normalizado}$ con la normalización *min-max*."
   ]
  },
  {
   "cell_type": "markdown",
   "id": "f2c74b82",
   "metadata": {},
   "source": [
    "## Ejercicios sobre condicionales"
   ]
  },
  {
   "cell_type": "markdown",
   "id": "e9e40f63",
   "metadata": {},
   "source": [
    "### E011 - Alerta de temperatura excedida\n",
    "\n",
    "Convierte 280°F a grados centígrados e imprime:\n",
    "\n",
    "* `ALERTA DE TEMPERATURA ALTA` - si los grados centígrados son mayores o iguales a `100°C`\n",
    "* `TEMPERATURA NORMAL` - si los grados centígrados son menores estrictamente a `100°C`"
   ]
  },
  {
   "cell_type": "markdown",
   "id": "1b7540f7",
   "metadata": {},
   "source": [
    "### E012 - Reporte del peso según el IMC\n",
    "\n",
    "Calcula el IMC de una persona (con la estatura y el peso) e imprime:\n",
    "\n",
    "* `BAJO DE PESO` - Si $IMC < 18.5$\n",
    "* `PESO NORMAL` - Si $18.5 \\lt IMC < 25$\n",
    "* `SOBREPESO` - Si $25 \\lt IMC < 30$\n",
    "* `OBESIDAD TIPO I` - Si $30 \\lt IMC < 35$\n",
    "* `OBESIDAD TIPO II` - Si $35 \\lt IMC < 40$\n",
    "* `OBESIDAD TIPO III` - Si $IMC \\gt 40$"
   ]
  },
  {
   "cell_type": "markdown",
   "id": "da3f72ae",
   "metadata": {},
   "source": [
    "### E013 - Ahorro del camino diagonal\n",
    "\n",
    "Supongamos que $lado_1$ representa el largo una calle y $lado_2$ representa el largo de la calle ortogonal a la anterior, si caminaramos por la primera calle y luego por la segunda, entonces recorreríamos una distancia total de $lado_1 + lado_2$\n",
    "\n",
    "¿Qué tantas veces más representa esta distancia respecto a ir en diagonal (ir por la hipotenusa)?\n",
    "\n",
    "Calcula la hipotenusa y reporta la razón de:\n",
    "\n",
    "$$\n",
    "\\frac{lado_1 + lado_2}{hipotenusa}\n",
    "$$\n",
    "\n",
    "Si la primera calle mide 120 metro y la segunda 80 metros, ¿Cuántas veces se recorre el camino diagonal?\n",
    "\n",
    "Imprime `INEFICIENTE` si la razón es mayor a $1.3$\n",
    "\n",
    "**Pregunta de reto**\n",
    "\n",
    "Haciendo varias simulaciones con diferentes valores para $lado_1$ y $lado_2$, ¿Cuál crees que es el valor máximo que alcanza la razón de veces de la suma de los lados entre la hipotenusa y por qué?"
   ]
  },
  {
   "cell_type": "markdown",
   "id": "d0b29aaf",
   "metadata": {},
   "source": [
    "### E014 - Punto dentro un circulo\n",
    "\n",
    "Para determina si un punto $(x_1, y_1)$ está dentro de un círculo con centro $(x_0, y_0)$ y radio $r$, podemos calcular la distancia entre el punto y el centro (con la distancia euclidea), y determinar si la distancia es mayor al radio o menor a este.\n",
    "\n",
    "Crea un programa que solicite los datos del punto y el círculo (centro y radio) e imprima:\n",
    "\n",
    "* `DENTRO` - si la distancia entre el punto y el centro del circulo es menor o igual al radio\n",
    "* `FUERA` - si la distancia entre el punto y el centro del circulo es mayor estrictamente al radio"
   ]
  },
  {
   "cell_type": "markdown",
   "id": "c75a1b75",
   "metadata": {},
   "source": [
    "### E015 - Normalización *min-max* segura\n",
    "\n",
    "Solicita los valores $a$ y $b$ que representan el mínimo y máximo de una serie de datos (por ejemplo, la edad mínima y máxima de un grupo de personas) y solicita también $x$ que representa un valor cualquiera de la serie de datos (por ejemplo, la edad de una persona en específico del grupo de personas).\n",
    "\n",
    "Imprime la edad normalizada al mínimo y máximo, solo si $a \\lt x \\lt b$, sino imprime: `EDAD FUERA DEL LÍMITE SUPERIOR` si $x > b$ o `EDAD FUERA DEL LÍMITE INFERIOR` si `x < a`."
   ]
  }
 ],
 "metadata": {
  "kernelspec": {
   "display_name": "3.10.15",
   "language": "python",
   "name": "python3"
  },
  "language_info": {
   "codemirror_mode": {
    "name": "ipython",
    "version": 3
   },
   "file_extension": ".py",
   "mimetype": "text/x-python",
   "name": "python",
   "nbconvert_exporter": "python",
   "pygments_lexer": "ipython3",
   "version": "3.10.15"
  }
 },
 "nbformat": 4,
 "nbformat_minor": 5
}
