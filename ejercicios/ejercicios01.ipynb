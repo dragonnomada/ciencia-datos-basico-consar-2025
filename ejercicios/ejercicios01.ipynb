{
 "cells": [
  {
   "cell_type": "markdown",
   "id": "a9ec813c",
   "metadata": {},
   "source": [
    "# Serie 1 - Ejercicios de Python\n",
    "\n",
    "## Ciencia de Datos Nivel Básico\n",
    "\n",
    "![LOGO CONSAR](https://lasmasinnovadoras.com/wp-content/uploads/2022/07/consar.jpg)\n",
    "\n",
    "> **Alan Badillo Salas**\n",
    ">\n",
    "> *Viernes 12, septiembre 2025*"
   ]
  },
  {
   "cell_type": "markdown",
   "id": "e481b131",
   "metadata": {},
   "source": [
    "## Ejercicios sobre variables"
   ]
  },
  {
   "cell_type": "markdown",
   "id": "47ffbc36",
   "metadata": {},
   "source": [
    "### E001. Conversión de temperatura\n",
    "\n",
    "Crea una variable para retener la temperatura en grados y otra que determine los grados fahrenheit dada la fórmula:\n",
    "\n",
    "$$\n",
    "F = \\frac{9}{5} C + 32\n",
    "$$\n",
    "\n",
    "donde $C$ son los grados celsius definidos por el usuario y $F$ los grados fahrenheit calculados."
   ]
  },
  {
   "cell_type": "markdown",
   "id": "c8a562e2",
   "metadata": {},
   "source": [
    "### E002. Índice de masa corporal\n",
    "\n",
    "Crea dos variables para retener la altura (metros) y el peso (kilogramos) de una persona y determina el índice de masa corporal dada la fórmula:\n",
    "\n",
    "$$\n",
    "IMC = \\frac{peso}{estatura^2}\n",
    "$$\n",
    "\n",
    "donde $IMC$ representa una cantidad de masa corporal, según la tabla:\n",
    "\n",
    "IMC | Descripción\n",
    "--- | ---\n",
    "`<18.5` | Bajo de peso\n",
    "`18.5 a <25` | Peso normal\n",
    "`25 a <30` | Sobrepeso\n",
    "`30 a <35` | Obesidad tipo I\n",
    "`35 a <40` | Obesidad tipo II\n",
    "`40+` | Obesidad tipo III\n",
    "\n",
    "**Nota:** Solo calcula y reporta el IMC"
   ]
  },
  {
   "cell_type": "markdown",
   "id": "addd623e",
   "metadata": {},
   "source": [
    "### E003. Hipotenusa\n",
    "\n",
    "Determina el valor de la hipotenusa según el tamaño de los catetos (lados ortogonales del triángulo)\n",
    "\n",
    "$$\n",
    "hipotenusa = \\sqrt{(lado_1)^2 + (lado_2)^2}\n",
    "$$"
   ]
  },
  {
   "cell_type": "markdown",
   "id": "deff12d9",
   "metadata": {},
   "source": [
    "### E004. Distancia entre dos puntos\n",
    "\n",
    "Determina la distancia entre dos puntos $(x_1, y_1)$ y $(x_2, y_2)$ usando la ecuación de la distancia euclideana:\n",
    "\n",
    "$$\n",
    "distancia = \\sqrt{(x_1 - x_2)^2 + (y_1 - y_2)^2}\n",
    "$$"
   ]
  },
  {
   "cell_type": "markdown",
   "id": "23289707",
   "metadata": {},
   "source": [
    "### E005. Normalización *min-max*\n",
    "\n",
    "Determina el valor normalizado de $x$, dado el valor mínimo $a$ y el valor máximo $b$ dada la ecuación:\n",
    "\n",
    "$$\n",
    "x_{normalizado} = (x - a) / (b - a)\n",
    "$$\n",
    "\n",
    "Por ejemplo, calcula el valor normalizado de $x = 48$ para $a = 23$ y $b = 75$."
   ]
  },
  {
   "cell_type": "markdown",
   "id": "6d05f63b",
   "metadata": {},
   "source": [
    "## Ejercicios sobre captura de datos"
   ]
  },
  {
   "cell_type": "markdown",
   "id": "3db320b7",
   "metadata": {},
   "source": [
    "### E006 - Conversión de temperatura (dada por el usuario)\n",
    "\n",
    "Pregunta y convierte a decimal la temperatura en celsius y determina los grados frahrenheit.\n",
    "\n",
    "Pista: `celsius = float(input(\"Ingresa la temeperatura en °C\":))`"
   ]
  },
  {
   "cell_type": "markdown",
   "id": "e759d31f",
   "metadata": {},
   "source": [
    "### E007 - Índice corporal (dada por el usuario)\n",
    "\n",
    "Pregunta por la estatura y peso del usuario y convierte los valores a decimal para reportar (imprimir) el valor del *IMC*."
   ]
  },
  {
   "cell_type": "markdown",
   "id": "ca4f3869",
   "metadata": {},
   "source": [
    "### E008 - Hipotenusa (con datos dados por el usuario)\n",
    "\n",
    "Solicita los valores de los catetos ($lado_1$ y $lado_2$) y calcula el valor de la hipotenusa."
   ]
  },
  {
   "cell_type": "markdown",
   "id": "9a8c86cb",
   "metadata": {},
   "source": [
    "### E009 - Distancia entre dos puntos (dados por el usuario)\n",
    "\n",
    "Solicita las cuatro variables decimales: $x_1$, $y_1$, $x_2$ y $y_2$ y reporta el valor de la distancia entre los puntos."
   ]
  },
  {
   "cell_type": "markdown",
   "id": "6cf2a88c",
   "metadata": {},
   "source": [
    "### E010 - Normalización *min-max* (con datos dados por el usuario)\n",
    "\n",
    "Solicita el valor mínimo y máximo de una serie de datos y el dato $x$ de la serie y reporta el valor de $x_{normalizado}$ con la normalización *min-max*."
   ]
  },
  {
   "cell_type": "markdown",
   "id": "f2c74b82",
   "metadata": {},
   "source": [
    "## Ejercicios sobre condicionales"
   ]
  },
  {
   "cell_type": "markdown",
   "id": "e9e40f63",
   "metadata": {},
   "source": [
    "### E011 - Alerta de temperatura excedida\n",
    "\n",
    "Convierte 280°F a grados centígrados e imprime:\n",
    "\n",
    "* `ALERTA DE TEMPERATURA ALTA` - si los grados centígrados son mayores o iguales a `100°C`\n",
    "* `TEMPERATURA NORMAL` - si los grados centígrados son menores estrictamente a `100°C`"
   ]
  },
  {
   "cell_type": "markdown",
   "id": "1b7540f7",
   "metadata": {},
   "source": [
    "### E012 - Reporte del peso según el IMC\n",
    "\n",
    "Calcula el IMC de una persona (con la estatura y el peso) e imprime:\n",
    "\n",
    "* `BAJO DE PESO` - Si $IMC < 18.5$\n",
    "* `PESO NORMAL` - Si $18.5 \\lt IMC < 25$\n",
    "* `SOBREPESO` - Si $25 \\lt IMC < 30$\n",
    "* `OBESIDAD TIPO I` - Si $30 \\lt IMC < 35$\n",
    "* `OBESIDAD TIPO II` - Si $35 \\lt IMC < 40$\n",
    "* `OBESIDAD TIPO III` - Si $IMC \\gt 40$"
   ]
  },
  {
   "cell_type": "markdown",
   "id": "da3f72ae",
   "metadata": {},
   "source": [
    "### E013 - Ahorro del camino diagonal\n",
    "\n",
    "Supongamos que $lado_1$ representa el largo una calle y $lado_2$ representa el largo de la calle ortogonal a la anterior, si caminaramos por la primera calle y luego por la segunda, entonces recorreríamos una distancia total de $lado_1 + lado_2$\n",
    "\n",
    "¿Qué tantas veces más representa esta distancia respecto a ir en diagonal (ir por la hipotenusa)?\n",
    "\n",
    "Calcula la hipotenusa y reporta la razón de:\n",
    "\n",
    "$$\n",
    "\\frac{lado_1 + lado_2}{hipotenusa}\n",
    "$$\n",
    "\n",
    "Si la primera calle mide 120 metro y la segunda 80 metros, ¿Cuántas veces se recorre el camino diagonal?\n",
    "\n",
    "Imprime `INEFICIENTE` si la razón es mayor a $1.3$\n",
    "\n",
    "**Pregunta de reto**\n",
    "\n",
    "Haciendo varias simulaciones con diferentes valores para $lado_1$ y $lado_2$, ¿Cuál crees que es el valor máximo que alcanza la razón de veces de la suma de los lados entre la hipotenusa y por qué?"
   ]
  },
  {
   "cell_type": "markdown",
   "id": "d0b29aaf",
   "metadata": {},
   "source": [
    "### E014 - Punto dentro un circulo\n",
    "\n",
    "Para determina si un punto $(x_1, y_1)$ está dentro de un círculo con centro $(x_0, y_0)$ y radio $r$, podemos calcular la distancia entre el punto y el centro (con la distancia euclidea), y determinar si la distancia es mayor al radio o menor a este.\n",
    "\n",
    "Crea un programa que solicite los datos del punto y el círculo (centro y radio) e imprima:\n",
    "\n",
    "* `DENTRO` - si la distancia entre el punto y el centro del circulo es menor o igual al radio\n",
    "* `FUERA` - si la distancia entre el punto y el centro del circulo es mayor estrictamente al radio"
   ]
  },
  {
   "cell_type": "markdown",
   "id": "c75a1b75",
   "metadata": {},
   "source": [
    "### E015 - Normalización *min-max* segura\n",
    "\n",
    "Solicita los valores $a$ y $b$ que representan el mínimo y máximo de una serie de datos (por ejemplo, la edad mínima y máxima de un grupo de personas) y solicita también $x$ que representa un valor cualquiera de la serie de datos (por ejemplo, la edad de una persona en específico del grupo de personas).\n",
    "\n",
    "Imprime la edad normalizada al mínimo y máximo, solo si $a \\lt x \\lt b$, sino imprime: `EDAD FUERA DEL LÍMITE SUPERIOR` si $x > b$ o `EDAD FUERA DEL LÍMITE INFERIOR` si `x < a`."
   ]
  },
  {
   "cell_type": "markdown",
   "id": "a4e58f20",
   "metadata": {},
   "source": [
    "## Ejercicios sobre listas"
   ]
  },
  {
   "cell_type": "markdown",
   "id": "330f86ff",
   "metadata": {},
   "source": [
    "### E016 - Lista de salarios\n",
    "\n",
    "Define una lista con 20 salarios posibles de empleados en una fábrica."
   ]
  },
  {
   "cell_type": "markdown",
   "id": "6cb9cc1a",
   "metadata": {},
   "source": [
    "### E017 - Lista de pesos\n",
    "\n",
    "Define una lista de 30 pesos posibles en un grupo de jóvenes de secundaria."
   ]
  },
  {
   "cell_type": "markdown",
   "id": "474733c4",
   "metadata": {},
   "source": [
    "### E018 - Lista de edades\n",
    "\n",
    "Deine una lista de 40 edades posibles de un concierto de rock alternativo en el Cervantino."
   ]
  },
  {
   "cell_type": "markdown",
   "id": "ce0630bf",
   "metadata": {},
   "source": [
    "### E019 - Lista de apellidos\n",
    "\n",
    "Define una lista de 10 apellidos posibles en un programa de apoyo a madres solteras. "
   ]
  },
  {
   "cell_type": "markdown",
   "id": "58619f66",
   "metadata": {},
   "source": [
    "### E020 - Lista de frutas\n",
    "\n",
    "Define una lista de 15 nombres de frutas distintas"
   ]
  },
  {
   "cell_type": "markdown",
   "id": "26c2c7fd",
   "metadata": {},
   "source": [
    "## Ejercicios sobre operaciones en listas"
   ]
  },
  {
   "cell_type": "markdown",
   "id": "c84a1d2a",
   "metadata": {},
   "source": [
    "### E021 - Reporte de salarios\n",
    "\n",
    "Para una lista de salarios (sueldos) de empleados en un fábrica, reporta el número de salarios (total de elementos), la suma de todos los salarios (gasto fijo en sueldos), el salario promedio (sueldo ideal), el salario mínimo (sueldo precario), el salario máximo (sueldo privilegiado), el rango de los salarios (máximo menos mínimo; desigualdad salarial). "
   ]
  },
  {
   "cell_type": "markdown",
   "id": "6d1571ad",
   "metadata": {},
   "source": [
    "### E022 - Reporte de pesos\n",
    "\n",
    "Para una lista de pesos de un grupo estudiantes de secundaria, reporta el total de pesos (equivalente al número de estudiantes), la suma de todos los pesos (peso total del grupo que tiene que soportar el aula), el peso promedio (peso ideal), el peso mínimo (peso inferior), el peso máximo (peso superior), el rango de los pesos (máximo menos mínimo), el peso máximo, menos el peso promedio (peso de ganancia), el peso promedio menos el peso mínimo (peso de pérdida).\n",
    "\n",
    "¿Qué significa que haya más peso de ganancia que de pérdida o al revés?"
   ]
  },
  {
   "cell_type": "markdown",
   "id": "8c406927",
   "metadata": {},
   "source": [
    "### E023 - Reporte de edades\n",
    "\n",
    "Para una lista de edades de un concierto de rock alternativo en el Cervantino, reporta el total de edades (equivalente al número de asistentes), la suma de todas las edades (años de vida acumulados en el concierto; experiencia total), la edad promedio (reporta a qué generación pertenece el promedio; década de nacimiento), la edad mínima (reporta la generación a la que pertenece; década de nacimiento), la edad máxima (reporta la generación a la que pertenece; década de nacimiento).\n",
    "\n",
    "A mano (en tu libreta), cuenta el número de asistentes nacidos en cada década, por ejemplo, si tiene 50 años, nació en 1975 (aprox.) la década de los 70s, si tiene 40 años nació en 1985 (aprox.) la década de los 80s.\n",
    "\n",
    "La decada se puede deducir con:\n",
    "\n",
    "$$\n",
    "decada = 10 \\cdot entero\\left(\\frac{2025 - 1900 - edad}{10}\\right)\n",
    "$$"
   ]
  },
  {
   "cell_type": "markdown",
   "id": "75f7c90a",
   "metadata": {},
   "source": [
    "### E024 - Reporte de apellidos\n",
    "\n",
    "Para una lista de apellidos de un programa de apoyo a madres solteras, reporta el total de elementos en la lista, reporta el apellido menor, reporta el apellido mayor, reporta los apellidos ordenados de forma ascendente, reporta los apellidos ordenados de forma descendente."
   ]
  },
  {
   "cell_type": "markdown",
   "id": "bb0a492e",
   "metadata": {},
   "source": [
    "### E025 - Reporte de frutas\n",
    "\n",
    "Para una lista de frutas, reporta el total de elementos en la lista, reporta la fruta menor, reporta la fruta mayor, reporta las frutas ordenados de forma ascendente, reporta las frutas ordenados de forma descendente."
   ]
  }
 ],
 "metadata": {
  "kernelspec": {
   "display_name": "3.10.15",
   "language": "python",
   "name": "python3"
  },
  "language_info": {
   "codemirror_mode": {
    "name": "ipython",
    "version": 3
   },
   "file_extension": ".py",
   "mimetype": "text/x-python",
   "name": "python",
   "nbconvert_exporter": "python",
   "pygments_lexer": "ipython3",
   "version": "3.10.15"
  }
 },
 "nbformat": 4,
 "nbformat_minor": 5
}
