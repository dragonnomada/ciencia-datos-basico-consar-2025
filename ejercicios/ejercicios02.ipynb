{
 "cells": [
  {
   "cell_type": "markdown",
   "id": "a9ec813c",
   "metadata": {},
   "source": [
    "# Serie 2 - Ejercicios de Python\n",
    "\n",
    "## Ciencia de Datos Nivel Básico\n",
    "\n",
    "![LOGO CONSAR](https://lasmasinnovadoras.com/wp-content/uploads/2022/07/consar.jpg)\n",
    "\n",
    "> **Alan Badillo Salas**\n",
    ">\n",
    "> *Viernes 12, septiembre 2025*"
   ]
  },
  {
   "cell_type": "markdown",
   "id": "e481b131",
   "metadata": {},
   "source": [
    "## Ejercicios sobre gráficas de histograma"
   ]
  },
  {
   "cell_type": "markdown",
   "id": "47ffbc36",
   "metadata": {},
   "source": [
    "### E051. Frecuencia de temperaturas\n",
    "\n",
    "Define la serie de temperaturas y grafica su histograma:\n",
    "\n",
    "25, 23, 24, 26, 22, 23, 25, 23, 21, 20, 18, 25, 21, 23, 29, 16, 23"
   ]
  },
  {
   "cell_type": "markdown",
   "id": "c8a562e2",
   "metadata": {},
   "source": [
    "### E052. Frecuencia de estaturas\n",
    "\n",
    "Define la serie de estaturas y grafica su histograma:\n",
    "\n",
    "1.78, 1.65, 1.72, 1.73, 1.69, 1.68, 1.56, 1.57, 1.81, 1.76, 1.75, 1.54, 1.51, 1.66, 1.74, 1.62, 1.89"
   ]
  },
  {
   "cell_type": "markdown",
   "id": "addd623e",
   "metadata": {},
   "source": [
    "### E053. Frecuencia de pesos\n",
    "\n",
    "Define la serie de pesos y grafica su histograma:\n",
    "\n",
    "56, 67, 89, 45, 72, 84, 98, 102, 67, 45, 56, 75, 67, 45, 95, 72, 64, 56, 84"
   ]
  },
  {
   "cell_type": "markdown",
   "id": "deff12d9",
   "metadata": {},
   "source": [
    "### E054. Frecuencia de salarios\n",
    "\n",
    "Define la serie de salarios y grafica su histograma:\n",
    "\n",
    "15300, 14800, 19200, 23600, 45700, 32900, 21500, 67800, 8500, 12200, 14500, 18600"
   ]
  },
  {
   "cell_type": "markdown",
   "id": "23289707",
   "metadata": {},
   "source": [
    "### E055. Frecuencia de tiempos de espera\n",
    "\n",
    "Define la serie de tiempos de espera en minutos y grafica su histograma:\n",
    "\n",
    "17, 25, 19, 23, 25, 10, 8, 14, 11, 15, 9, 36, 5, 8, 9, 12"
   ]
  },
  {
   "cell_type": "markdown",
   "id": "6d05f63b",
   "metadata": {},
   "source": [
    "## Ejercicios sobre series de pandas"
   ]
  },
  {
   "cell_type": "markdown",
   "id": "3d1ad29c",
   "metadata": {},
   "source": [
    "### E056. Serie de temperaturas\n",
    "\n",
    "Define la serie de temperaturas como serie de pandas y describe sus estadísticos principales:\n",
    "\n",
    "25, 23, 24, 26, 22, 23, 25, 23, 21, 20, 18, 25, 21, 23, 29, 16, 23"
   ]
  },
  {
   "cell_type": "markdown",
   "id": "7e9ab8e5",
   "metadata": {},
   "source": [
    "### E057. Serie de estaturas\n",
    "\n",
    "Define la serie de estaturas como serie de pandas y describe sus estadísticos principales:\n",
    "\n",
    "1.78, 1.65, 1.72, 1.73, 1.69, 1.68, 1.56, 1.57, 1.81, 1.76, 1.75, 1.54, 1.51, 1.66, 1.74, 1.62, 1.89"
   ]
  },
  {
   "cell_type": "markdown",
   "id": "5166ba95",
   "metadata": {},
   "source": [
    "### E058. Serie de pesos\n",
    "\n",
    "Define la serie de pesos como serie de pandas y describe sus estadísticos principales:\n",
    "\n",
    "56, 67, 89, 45, 72, 84, 98, 102, 67, 45, 56, 75, 67, 45, 95, 72, 64, 56, 84"
   ]
  },
  {
   "cell_type": "markdown",
   "id": "eecaa9c9",
   "metadata": {},
   "source": [
    "### E059. Serie de salarios\n",
    "\n",
    "Define la serie de salarios como serie de pandas y describe sus estadísticos principales:\n",
    "\n",
    "15300, 14800, 19200, 23600, 45700, 32900, 21500, 67800, 8500, 12200, 14500, 18600"
   ]
  },
  {
   "cell_type": "markdown",
   "id": "8601edcd",
   "metadata": {},
   "source": [
    "### E060. Serie de tiempos de espera\n",
    "\n",
    "Define la serie de tiempos de espera en minutos como serie de pandas y describe sus estadísticos principales:\n",
    "\n",
    "17, 25, 19, 23, 25, 10, 8, 14, 11, 15, 9, 36, 5, 8, 9, 12"
   ]
  },
  {
   "cell_type": "markdown",
   "id": "f2c74b82",
   "metadata": {},
   "source": [
    "## Ejercicios sobre densidades en series de pandas"
   ]
  },
  {
   "cell_type": "markdown",
   "id": "01cb2435",
   "metadata": {},
   "source": [
    "### E061. Densidad de temperaturas\n",
    "\n",
    "Define la serie de temperaturas como serie de pandas y grafica su densidad:\n",
    "\n",
    "25, 23, 24, 26, 22, 23, 25, 23, 21, 20, 18, 25, 21, 23, 29, 16, 23"
   ]
  },
  {
   "cell_type": "markdown",
   "id": "f23360c3",
   "metadata": {},
   "source": [
    "### E062. Densidad de estaturas\n",
    "\n",
    "Define la serie de estaturas como serie de pandas y grafica su densidad:\n",
    "\n",
    "1.78, 1.65, 1.72, 1.73, 1.69, 1.68, 1.56, 1.57, 1.81, 1.76, 1.75, 1.54, 1.51, 1.66, 1.74, 1.62, 1.89"
   ]
  },
  {
   "cell_type": "markdown",
   "id": "0275a52d",
   "metadata": {},
   "source": [
    "### E063. Densidad de pesos\n",
    "\n",
    "Define la serie de pesos como serie de pandas y grafica su densidad:\n",
    "\n",
    "56, 67, 89, 45, 72, 84, 98, 102, 67, 45, 56, 75, 67, 45, 95, 72, 64, 56, 84"
   ]
  },
  {
   "cell_type": "markdown",
   "id": "d06c1da8",
   "metadata": {},
   "source": [
    "### E064. Densidad de salarios\n",
    "\n",
    "Define la serie de salarios como serie de pandas y grafica su densidad:\n",
    "\n",
    "15300, 14800, 19200, 23600, 45700, 32900, 21500, 67800, 8500, 12200, 14500, 18600"
   ]
  },
  {
   "cell_type": "markdown",
   "id": "d1b92a60",
   "metadata": {},
   "source": [
    "### E065. Densidad de tiempos de espera\n",
    "\n",
    "Define la serie de tiempos de espera en minutos como serie de pandas y grafica su densidad:\n",
    "\n",
    "17, 25, 19, 23, 25, 10, 8, 14, 11, 15, 9, 36, 5, 8, 9, 12"
   ]
  },
  {
   "cell_type": "markdown",
   "id": "a4e58f20",
   "metadata": {},
   "source": [
    "## Ejercicios sobre progresión cuantílica"
   ]
  },
  {
   "cell_type": "markdown",
   "id": "76692b5d",
   "metadata": {},
   "source": [
    "### E066. Progresión de temperaturas\n",
    "\n",
    "Define la serie de temperaturas como serie de pandas y cambia el índice por su progresión cuantílica:\n",
    "\n",
    "25, 23, 24, 26, 22, 23, 25, 23, 21, 20, 18, 25, 21, 23, 29, 16, 23"
   ]
  },
  {
   "cell_type": "markdown",
   "id": "646ddd66",
   "metadata": {},
   "source": [
    "### E067. Progresión de estaturas\n",
    "\n",
    "Define la serie de estaturas como serie de pandas y cambia el índice por su progresión cuantílica:\n",
    "\n",
    "1.78, 1.65, 1.72, 1.73, 1.69, 1.68, 1.56, 1.57, 1.81, 1.76, 1.75, 1.54, 1.51, 1.66, 1.74, 1.62, 1.89"
   ]
  },
  {
   "cell_type": "markdown",
   "id": "e0a851a5",
   "metadata": {},
   "source": [
    "### E068. Progresión de pesos\n",
    "\n",
    "Define la serie de pesos como serie de pandas y cambia el índice por su progresión cuantílica:\n",
    "\n",
    "56, 67, 89, 45, 72, 84, 98, 102, 67, 45, 56, 75, 67, 45, 95, 72, 64, 56, 84"
   ]
  },
  {
   "cell_type": "markdown",
   "id": "95df5d84",
   "metadata": {},
   "source": [
    "### E069. Progresión de salarios\n",
    "\n",
    "Define la serie de salarios como serie de pandas y cambia el índice por su progresión cuantílica:\n",
    "\n",
    "15300, 14800, 19200, 23600, 45700, 32900, 21500, 67800, 8500, 12200, 14500, 18600"
   ]
  },
  {
   "cell_type": "markdown",
   "id": "3952f00e",
   "metadata": {},
   "source": [
    "### E070. Progresión de tiempos de espera\n",
    "\n",
    "Define la serie de tiempos de espera en minutos como serie de pandas y cambia el índice por su progresión cuantílica:\n",
    "\n",
    "17, 25, 19, 23, 25, 10, 8, 14, 11, 15, 9, 36, 5, 8, 9, 12"
   ]
  },
  {
   "cell_type": "markdown",
   "id": "26c2c7fd",
   "metadata": {},
   "source": [
    "## Ejercicios sobre gráficas de progresión"
   ]
  },
  {
   "cell_type": "markdown",
   "id": "cfbb44c4",
   "metadata": {},
   "source": [
    "### E071. Gráfica de progresión de temperaturas\n",
    "\n",
    "Define la serie de temperaturas como serie de pandas y grafica el índice de progresión contra los valores:\n",
    "\n",
    "25, 23, 24, 26, 22, 23, 25, 23, 21, 20, 18, 25, 21, 23, 29, 16, 23"
   ]
  },
  {
   "cell_type": "markdown",
   "id": "d78cbd56",
   "metadata": {},
   "source": [
    "### E072. Gráfica de progresión de estaturas\n",
    "\n",
    "Define la serie de estaturas como serie de pandas y grafica el índice de progresión contra los valores:\n",
    "\n",
    "1.78, 1.65, 1.72, 1.73, 1.69, 1.68, 1.56, 1.57, 1.81, 1.76, 1.75, 1.54, 1.51, 1.66, 1.74, 1.62, 1.89"
   ]
  },
  {
   "cell_type": "markdown",
   "id": "a082c85f",
   "metadata": {},
   "source": [
    "### E073. Gráfica de progresión de pesos\n",
    "\n",
    "Define la serie de pesos como serie de pandas y grafica el índice de progresión contra los valores:\n",
    "\n",
    "56, 67, 89, 45, 72, 84, 98, 102, 67, 45, 56, 75, 67, 45, 95, 72, 64, 56, 84"
   ]
  },
  {
   "cell_type": "markdown",
   "id": "47a31252",
   "metadata": {},
   "source": [
    "### E074. Gráfica de progresión de salarios\n",
    "\n",
    "Define la serie de salarios como serie de pandas y grafica el índice de progresión contra los valores:\n",
    "\n",
    "15300, 14800, 19200, 23600, 45700, 32900, 21500, 67800, 8500, 12200, 14500, 18600"
   ]
  },
  {
   "cell_type": "markdown",
   "id": "eeb069a2",
   "metadata": {},
   "source": [
    "### E075. Gráfica de progresión de tiempos de espera\n",
    "\n",
    "Define la serie de tiempos de espera en minutos como serie de pandas y grafica el índice de progresión contra los valores:\n",
    "\n",
    "17, 25, 19, 23, 25, 10, 8, 14, 11, 15, 9, 36, 5, 8, 9, 12"
   ]
  },
  {
   "cell_type": "markdown",
   "id": "8a79578e",
   "metadata": {},
   "source": [
    "## Ejercicios sobre índices de listas"
   ]
  },
  {
   "cell_type": "markdown",
   "id": "f31eeec0",
   "metadata": {},
   "source": [
    "### E026 - Reporte con índices de salarios\n",
    "\n",
    "Para una lista de salarios (sueldos) de empleados en un fábrica, reporta el salario del primer empleado, el salario del cuarto empleado, el salario del último empleado, el salario del antepenúltimo empleado, el salario del onceavo empleado, el salario del quinto empleado final, el salario del onceavo empleado final. El salario del tercer empleado que gana menos, el salario del segundo empleado que gana más.  "
   ]
  },
  {
   "cell_type": "markdown",
   "id": "3a597aec",
   "metadata": {},
   "source": [
    "### E027 - Reporte con índices de pesos\n",
    "\n",
    "Para una lista de pesos de un grupo estudiantes de secundaria, reporta el peso del sexto estudiante, el peso del segundo estudiante, el peso del octavo estudiante, el peso del penúltimo estudiante, el peso del estudiante anterior al antepenúltimo estudiante, el peso del octavo estudiante del final, el peso del noveno estudiante, el peso del estudiante con el índice de la mitad entera del tamaño de la lista."
   ]
  },
  {
   "cell_type": "markdown",
   "id": "e284c5af",
   "metadata": {},
   "source": [
    "### E028 - Reporte con índices de edades\n",
    "\n",
    "Para una lista de edades de un concierto de rock alternativo en el Cervantino, reporta la séptima edad, la cuarta edad, la última edad, la edad correspondiente al 20% del tamaño de la lista, la edad correspondiente al 20% de la lista ordenada."
   ]
  },
  {
   "cell_type": "markdown",
   "id": "df024dde",
   "metadata": {},
   "source": [
    "### E029 - Reporte con índices de apellidos\n",
    "\n",
    "Para una lista de apellidos de un programa de apoyo a madres solteras, el primer apellido ordenado ascendentemente, el segundo apellido ordenado descendentemente, el último apellido ordenado ascendentemente, el penúltimo apellido ordenado descendentemente."
   ]
  },
  {
   "cell_type": "markdown",
   "id": "6eea89b4",
   "metadata": {},
   "source": [
    "### E030 - Reporte con índices de frutas\n",
    "\n",
    "Para una lista de frutas, reporta el total de elementos en la lista, reporta la segunda fruta ordenada ascendentemente, la quinta fruta ordenada descendentemente, la penúltima fruta ordenada descendente, la quinta fruta ordenada ascendente, la fruta mediana ordenada ascendentemente."
   ]
  },
  {
   "cell_type": "markdown",
   "id": "f7652602",
   "metadata": {},
   "source": [
    "## Ejercicios sobre índices de sublistas"
   ]
  },
  {
   "cell_type": "markdown",
   "id": "b3ec3894",
   "metadata": {},
   "source": [
    "### E031 - Reporte con sublistas de salarios\n",
    "\n",
    "Para una lista de salarios (sueldos) de empleados en un fábrica, reporta los 5 salarios inferiores, los 5 salarios superiores, los salarios debajo de la mitad del tamaño de la lista, los salarios arriba de la mitad de la lista."
   ]
  },
  {
   "cell_type": "markdown",
   "id": "27f58847",
   "metadata": {},
   "source": [
    "### E032 - Reporte con sublistas de pesos\n",
    "\n",
    "Para una lista de pesos de un grupo estudiantes de secundaria, reporta los 5 pesos inferiores, los 5 pesos superiores, los pesos debajo de la mitad del tamaño de la lista, los pesos arriba de la mitad de la lista."
   ]
  },
  {
   "cell_type": "markdown",
   "id": "c7f01afc",
   "metadata": {},
   "source": [
    "### E033 - Reporte con sublistas de edades\n",
    "\n",
    "Para una lista de edades de un concierto de rock alternativo en el Cervantino, reporta las 5 edades inferiores, las 5 edades superiores, las 5 edades antes de la mitad de la lista y las 5 edades después de la mitad de la lista (las 10 edades intermedias)."
   ]
  },
  {
   "cell_type": "markdown",
   "id": "55af86e4",
   "metadata": {},
   "source": [
    "### E034 - Reporte con sublistas de apellidos\n",
    "\n",
    "Para una lista de apellidos de un programa de apoyo a madres solteras, los primeros 3 apellidos descendentes, los últimos 3 apellidos ascendentes."
   ]
  },
  {
   "cell_type": "markdown",
   "id": "e2fedc3d",
   "metadata": {},
   "source": [
    "### E035 - Reporte con sublistas de frutas\n",
    "\n",
    "Para una lista de frutas, reporta el total de elementos en la lista, reporta las frutas de la tercera a la novena, las frutas de la sexta a la onceava, las frutas de la última a la quinta."
   ]
  },
  {
   "cell_type": "markdown",
   "id": "fbb123ad",
   "metadata": {},
   "source": [
    "## Ejercicios sobre iteradores"
   ]
  },
  {
   "cell_type": "markdown",
   "id": "09f50dde",
   "metadata": {},
   "source": [
    "### E036 - Números del -10 al 10\n",
    "\n",
    "Imprime los números del -10 al 10 (inclusive)."
   ]
  },
  {
   "cell_type": "markdown",
   "id": "dc66f281",
   "metadata": {},
   "source": [
    "### E037 - Número al cuadrado del 1 al 100\n",
    "\n",
    "Escribe el cuadrado de los números del 1 al 100 (inclusive)."
   ]
  },
  {
   "cell_type": "markdown",
   "id": "d07fc764",
   "metadata": {},
   "source": [
    "### E038 - Números pares del 1 al 100\n",
    "\n",
    "Escribe los números pares del 1 al 100 (inclusive).\n",
    "\n",
    "Determina si un número es par mediante:\n",
    "\n",
    "```python\n",
    "if i % 2 == 0:\n",
    "    print(i)\n",
    "```"
   ]
  },
  {
   "cell_type": "markdown",
   "id": "0af3a577",
   "metadata": {},
   "source": [
    "### E039 - Números impares del 1 al 100\n",
    "\n",
    "Escribe los números pares del 1 al 100."
   ]
  },
  {
   "cell_type": "markdown",
   "id": "fa734070",
   "metadata": {},
   "source": [
    "### E040 - Números inversos del 1 al 100\n",
    "\n",
    "Escribe el inverso de los números del 1 al 100.\n",
    "\n",
    "Es decir, $1, 0.5, 0.3333, 0.25, ..., 0.001$"
   ]
  },
  {
   "cell_type": "markdown",
   "id": "4f7a93ec",
   "metadata": {},
   "source": [
    "## Ejercicios sobre iteradores con acumulación"
   ]
  },
  {
   "cell_type": "markdown",
   "id": "2f2ce229",
   "metadata": {},
   "source": [
    "### E041 - Números del -10 al 10\n",
    "\n",
    "Suma los números del -10 al 10 (inclusive)."
   ]
  },
  {
   "cell_type": "markdown",
   "id": "aabd9bd9",
   "metadata": {},
   "source": [
    "### E042 - Número al cuadrado del 1 al 100\n",
    "\n",
    "Suma el cuadrado de los números del 1 al 100 (inclusive)."
   ]
  },
  {
   "cell_type": "markdown",
   "id": "8ad1adc8",
   "metadata": {},
   "source": [
    "### E043 - Números pares del 1 al 100\n",
    "\n",
    "Suma los números pares del 1 al 100 (inclusive).\n",
    "\n",
    "Determina si un número es par mediante:\n",
    "\n",
    "```python\n",
    "if i % 2 == 0:\n",
    "    print(i)\n",
    "```"
   ]
  },
  {
   "cell_type": "markdown",
   "id": "35f46b14",
   "metadata": {},
   "source": [
    "### E044 - Números impares del 1 al 100\n",
    "\n",
    "Suma los números pares del 1 al 100."
   ]
  },
  {
   "cell_type": "markdown",
   "id": "a1482048",
   "metadata": {},
   "source": [
    "### E045 - Números inversos del 1 al 100\n",
    "\n",
    "Suma el inverso de los números del 1 al 100.\n",
    "\n",
    "Es decir, $1 + 0.5 + 0.3333 + 0.25 + ... + 0.001$"
   ]
  },
  {
   "cell_type": "markdown",
   "id": "b1fee92d",
   "metadata": {},
   "source": [
    "## Ejercicios sobre iteradores con listado"
   ]
  },
  {
   "cell_type": "markdown",
   "id": "67b3c0ef",
   "metadata": {},
   "source": [
    "### E046 - Números del -10 al 10\n",
    "\n",
    "Genera una lista con los números del -10 al 10 (inclusive).\n",
    "\n",
    "Pista:\n",
    "\n",
    "```python\n",
    "numeros = []\n",
    "\n",
    "for i in range(...):\n",
    "    numeros.append(i)\n",
    "\n",
    "print(numeros)\n",
    "```"
   ]
  },
  {
   "cell_type": "markdown",
   "id": "f68c7e3a",
   "metadata": {},
   "source": [
    "### E047 - Número al cuadrado del 1 al 100\n",
    "\n",
    "Genera una lista con el cuadrado de los números del 1 al 100 (inclusive)."
   ]
  },
  {
   "cell_type": "markdown",
   "id": "da6f4290",
   "metadata": {},
   "source": [
    "### E048 - Números pares del 1 al 100\n",
    "\n",
    "Genera una lista con los números pares del 1 al 100 (inclusive).\n",
    "\n",
    "Determina si un número es par mediante:\n",
    "\n",
    "```python\n",
    "if i % 2 == 0:\n",
    "    print(i)\n",
    "```"
   ]
  },
  {
   "cell_type": "markdown",
   "id": "b008300a",
   "metadata": {},
   "source": [
    "### E049 - Números impares del 1 al 100\n",
    "\n",
    "Genera una lista con los números pares del 1 al 100."
   ]
  },
  {
   "cell_type": "markdown",
   "id": "88ea44f4",
   "metadata": {},
   "source": [
    "### E050 - Números inversos del 1 al 100\n",
    "\n",
    "Genera una lista con el inverso de los números del 1 al 100.\n",
    "\n",
    "Es decir, $1 + 0.5 + 0.3333 + 0.25 + ... + 0.001$"
   ]
  }
 ],
 "metadata": {
  "kernelspec": {
   "display_name": "3.10.15",
   "language": "python",
   "name": "python3"
  },
  "language_info": {
   "codemirror_mode": {
    "name": "ipython",
    "version": 3
   },
   "file_extension": ".py",
   "mimetype": "text/x-python",
   "name": "python",
   "nbconvert_exporter": "python",
   "pygments_lexer": "ipython3",
   "version": "3.10.15"
  }
 },
 "nbformat": 4,
 "nbformat_minor": 5
}
