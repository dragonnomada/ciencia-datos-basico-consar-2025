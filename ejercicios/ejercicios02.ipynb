{
 "cells": [
  {
   "cell_type": "markdown",
   "id": "a9ec813c",
   "metadata": {},
   "source": [
    "# Serie 2 - Ejercicios de Python\n",
    "\n",
    "## Ciencia de Datos Nivel Básico\n",
    "\n",
    "![LOGO CONSAR](https://lasmasinnovadoras.com/wp-content/uploads/2022/07/consar.jpg)\n",
    "\n",
    "> **Alan Badillo Salas**\n",
    ">\n",
    "> *Viernes 12, septiembre 2025*"
   ]
  },
  {
   "cell_type": "markdown",
   "id": "e481b131",
   "metadata": {},
   "source": [
    "## Ejercicios sobre gráficas de histograma"
   ]
  },
  {
   "cell_type": "markdown",
   "id": "47ffbc36",
   "metadata": {},
   "source": [
    "### E051. Frecuencia de temperaturas\n",
    "\n",
    "Define la serie de temperaturas y grafica su histograma:\n",
    "\n",
    "25, 23, 24, 26, 22, 23, 25, 23, 21, 20, 18, 25, 21, 23, 29, 16, 23"
   ]
  },
  {
   "cell_type": "markdown",
   "id": "c8a562e2",
   "metadata": {},
   "source": [
    "### E052. Frecuencia de estaturas\n",
    "\n",
    "Define la serie de estaturas y grafica su histograma:\n",
    "\n",
    "1.78, 1.65, 1.72, 1.73, 1.69, 1.68, 1.56, 1.57, 1.81, 1.76, 1.75, 1.54, 1.51, 1.66, 1.74, 1.62, 1.89"
   ]
  },
  {
   "cell_type": "markdown",
   "id": "addd623e",
   "metadata": {},
   "source": [
    "### E053. Frecuencia de pesos\n",
    "\n",
    "Define la serie de pesos y grafica su histograma:\n",
    "\n",
    "56, 67, 89, 45, 72, 84, 98, 102, 67, 45, 56, 75, 67, 45, 95, 72, 64, 56, 84"
   ]
  },
  {
   "cell_type": "markdown",
   "id": "deff12d9",
   "metadata": {},
   "source": [
    "### E054. Frecuencia de salarios\n",
    "\n",
    "Define la serie de salarios y grafica su histograma:\n",
    "\n",
    "15300, 14800, 19200, 23600, 45700, 32900, 21500, 67800, 8500, 12200, 14500, 18600"
   ]
  },
  {
   "cell_type": "markdown",
   "id": "23289707",
   "metadata": {},
   "source": [
    "### E055. Frecuencia de tiempos de espera\n",
    "\n",
    "Define la serie de tiempos de espera en minutos y grafica su histograma:\n",
    "\n",
    "17, 25, 19, 23, 25, 10, 8, 14, 11, 15, 9, 36, 5, 8, 9, 12"
   ]
  },
  {
   "cell_type": "markdown",
   "id": "6d05f63b",
   "metadata": {},
   "source": [
    "## Ejercicios sobre series de pandas"
   ]
  },
  {
   "cell_type": "markdown",
   "id": "3d1ad29c",
   "metadata": {},
   "source": [
    "### E056. Serie de temperaturas\n",
    "\n",
    "Define la serie de temperaturas como serie de pandas y describe sus estadísticos principales:\n",
    "\n",
    "25, 23, 24, 26, 22, 23, 25, 23, 21, 20, 18, 25, 21, 23, 29, 16, 23"
   ]
  },
  {
   "cell_type": "markdown",
   "id": "7e9ab8e5",
   "metadata": {},
   "source": [
    "### E057. Serie de estaturas\n",
    "\n",
    "Define la serie de estaturas como serie de pandas y describe sus estadísticos principales:\n",
    "\n",
    "1.78, 1.65, 1.72, 1.73, 1.69, 1.68, 1.56, 1.57, 1.81, 1.76, 1.75, 1.54, 1.51, 1.66, 1.74, 1.62, 1.89"
   ]
  },
  {
   "cell_type": "markdown",
   "id": "5166ba95",
   "metadata": {},
   "source": [
    "### E058. Serie de pesos\n",
    "\n",
    "Define la serie de pesos como serie de pandas y describe sus estadísticos principales:\n",
    "\n",
    "56, 67, 89, 45, 72, 84, 98, 102, 67, 45, 56, 75, 67, 45, 95, 72, 64, 56, 84"
   ]
  },
  {
   "cell_type": "markdown",
   "id": "eecaa9c9",
   "metadata": {},
   "source": [
    "### E059. Serie de salarios\n",
    "\n",
    "Define la serie de salarios como serie de pandas y describe sus estadísticos principales:\n",
    "\n",
    "15300, 14800, 19200, 23600, 45700, 32900, 21500, 67800, 8500, 12200, 14500, 18600"
   ]
  },
  {
   "cell_type": "markdown",
   "id": "8601edcd",
   "metadata": {},
   "source": [
    "### E060. Serie de tiempos de espera\n",
    "\n",
    "Define la serie de tiempos de espera en minutos como serie de pandas y describe sus estadísticos principales:\n",
    "\n",
    "17, 25, 19, 23, 25, 10, 8, 14, 11, 15, 9, 36, 5, 8, 9, 12"
   ]
  },
  {
   "cell_type": "markdown",
   "id": "f2c74b82",
   "metadata": {},
   "source": [
    "## Ejercicios sobre densidades en series de pandas"
   ]
  },
  {
   "cell_type": "markdown",
   "id": "01cb2435",
   "metadata": {},
   "source": [
    "### E061. Densidad de temperaturas\n",
    "\n",
    "Define la serie de temperaturas como serie de pandas y grafica su densidad:\n",
    "\n",
    "25, 23, 24, 26, 22, 23, 25, 23, 21, 20, 18, 25, 21, 23, 29, 16, 23"
   ]
  },
  {
   "cell_type": "markdown",
   "id": "f23360c3",
   "metadata": {},
   "source": [
    "### E062. Densidad de estaturas\n",
    "\n",
    "Define la serie de estaturas como serie de pandas y grafica su densidad:\n",
    "\n",
    "1.78, 1.65, 1.72, 1.73, 1.69, 1.68, 1.56, 1.57, 1.81, 1.76, 1.75, 1.54, 1.51, 1.66, 1.74, 1.62, 1.89"
   ]
  },
  {
   "cell_type": "markdown",
   "id": "0275a52d",
   "metadata": {},
   "source": [
    "### E063. Densidad de pesos\n",
    "\n",
    "Define la serie de pesos como serie de pandas y grafica su densidad:\n",
    "\n",
    "56, 67, 89, 45, 72, 84, 98, 102, 67, 45, 56, 75, 67, 45, 95, 72, 64, 56, 84"
   ]
  },
  {
   "cell_type": "markdown",
   "id": "d06c1da8",
   "metadata": {},
   "source": [
    "### E064. Densidad de salarios\n",
    "\n",
    "Define la serie de salarios como serie de pandas y grafica su densidad:\n",
    "\n",
    "15300, 14800, 19200, 23600, 45700, 32900, 21500, 67800, 8500, 12200, 14500, 18600"
   ]
  },
  {
   "cell_type": "markdown",
   "id": "d1b92a60",
   "metadata": {},
   "source": [
    "### E065. Densidad de tiempos de espera\n",
    "\n",
    "Define la serie de tiempos de espera en minutos como serie de pandas y grafica su densidad:\n",
    "\n",
    "17, 25, 19, 23, 25, 10, 8, 14, 11, 15, 9, 36, 5, 8, 9, 12"
   ]
  },
  {
   "cell_type": "markdown",
   "id": "a4e58f20",
   "metadata": {},
   "source": [
    "## Ejercicios sobre progresión cuantílica"
   ]
  },
  {
   "cell_type": "markdown",
   "id": "76692b5d",
   "metadata": {},
   "source": [
    "### E066. Progresión de temperaturas\n",
    "\n",
    "Define la serie de temperaturas como serie de pandas y cambia el índice por su progresión cuantílica:\n",
    "\n",
    "25, 23, 24, 26, 22, 23, 25, 23, 21, 20, 18, 25, 21, 23, 29, 16, 23"
   ]
  },
  {
   "cell_type": "markdown",
   "id": "646ddd66",
   "metadata": {},
   "source": [
    "### E067. Progresión de estaturas\n",
    "\n",
    "Define la serie de estaturas como serie de pandas y cambia el índice por su progresión cuantílica:\n",
    "\n",
    "1.78, 1.65, 1.72, 1.73, 1.69, 1.68, 1.56, 1.57, 1.81, 1.76, 1.75, 1.54, 1.51, 1.66, 1.74, 1.62, 1.89"
   ]
  },
  {
   "cell_type": "markdown",
   "id": "e0a851a5",
   "metadata": {},
   "source": [
    "### E068. Progresión de pesos\n",
    "\n",
    "Define la serie de pesos como serie de pandas y cambia el índice por su progresión cuantílica:\n",
    "\n",
    "56, 67, 89, 45, 72, 84, 98, 102, 67, 45, 56, 75, 67, 45, 95, 72, 64, 56, 84"
   ]
  },
  {
   "cell_type": "markdown",
   "id": "95df5d84",
   "metadata": {},
   "source": [
    "### E069. Progresión de salarios\n",
    "\n",
    "Define la serie de salarios como serie de pandas y cambia el índice por su progresión cuantílica:\n",
    "\n",
    "15300, 14800, 19200, 23600, 45700, 32900, 21500, 67800, 8500, 12200, 14500, 18600"
   ]
  },
  {
   "cell_type": "markdown",
   "id": "3952f00e",
   "metadata": {},
   "source": [
    "### E070. Progresión de tiempos de espera\n",
    "\n",
    "Define la serie de tiempos de espera en minutos como serie de pandas y cambia el índice por su progresión cuantílica:\n",
    "\n",
    "17, 25, 19, 23, 25, 10, 8, 14, 11, 15, 9, 36, 5, 8, 9, 12"
   ]
  },
  {
   "cell_type": "markdown",
   "id": "26c2c7fd",
   "metadata": {},
   "source": [
    "## Ejercicios sobre gráficas de progresión"
   ]
  },
  {
   "cell_type": "markdown",
   "id": "cfbb44c4",
   "metadata": {},
   "source": [
    "### E071. Gráfica de progresión de temperaturas\n",
    "\n",
    "Define la serie de temperaturas como serie de pandas y grafica el índice de progresión contra los valores:\n",
    "\n",
    "25, 23, 24, 26, 22, 23, 25, 23, 21, 20, 18, 25, 21, 23, 29, 16, 23"
   ]
  },
  {
   "cell_type": "markdown",
   "id": "d78cbd56",
   "metadata": {},
   "source": [
    "### E072. Gráfica de progresión de estaturas\n",
    "\n",
    "Define la serie de estaturas como serie de pandas y grafica el índice de progresión contra los valores:\n",
    "\n",
    "1.78, 1.65, 1.72, 1.73, 1.69, 1.68, 1.56, 1.57, 1.81, 1.76, 1.75, 1.54, 1.51, 1.66, 1.74, 1.62, 1.89"
   ]
  },
  {
   "cell_type": "markdown",
   "id": "a082c85f",
   "metadata": {},
   "source": [
    "### E073. Gráfica de progresión de pesos\n",
    "\n",
    "Define la serie de pesos como serie de pandas y grafica el índice de progresión contra los valores:\n",
    "\n",
    "56, 67, 89, 45, 72, 84, 98, 102, 67, 45, 56, 75, 67, 45, 95, 72, 64, 56, 84"
   ]
  },
  {
   "cell_type": "markdown",
   "id": "47a31252",
   "metadata": {},
   "source": [
    "### E074. Gráfica de progresión de salarios\n",
    "\n",
    "Define la serie de salarios como serie de pandas y grafica el índice de progresión contra los valores:\n",
    "\n",
    "15300, 14800, 19200, 23600, 45700, 32900, 21500, 67800, 8500, 12200, 14500, 18600"
   ]
  },
  {
   "cell_type": "markdown",
   "id": "eeb069a2",
   "metadata": {},
   "source": [
    "### E075. Gráfica de progresión de tiempos de espera\n",
    "\n",
    "Define la serie de tiempos de espera en minutos como serie de pandas y grafica el índice de progresión contra los valores:\n",
    "\n",
    "17, 25, 19, 23, 25, 10, 8, 14, 11, 15, 9, 36, 5, 8, 9, 12"
   ]
  },
  {
   "cell_type": "markdown",
   "id": "8a79578e",
   "metadata": {},
   "source": [
    "## Ejercicios sobre rangos en series de pandas"
   ]
  },
  {
   "cell_type": "markdown",
   "id": "355cbf0e",
   "metadata": {},
   "source": [
    "### E076. Rango de temperaturas\n",
    "\n",
    "Define la serie de temperaturas como serie de pandas y determina el rango del máximo menos el mínimo:\n",
    "\n",
    "25, 23, 24, 26, 22, 23, 25, 23, 21, 20, 18, 25, 21, 23, 29, 16, 23"
   ]
  },
  {
   "cell_type": "markdown",
   "id": "bc56eb7f",
   "metadata": {},
   "source": [
    "### E077. Rango de estaturas\n",
    "\n",
    "Define la serie de estaturas como serie de pandas y determina el rango del máximo menos el mínimo:\n",
    "\n",
    "1.78, 1.65, 1.72, 1.73, 1.69, 1.68, 1.56, 1.57, 1.81, 1.76, 1.75, 1.54, 1.51, 1.66, 1.74, 1.62, 1.89"
   ]
  },
  {
   "cell_type": "markdown",
   "id": "b6a7b958",
   "metadata": {},
   "source": [
    "### E078. Rango de pesos\n",
    "\n",
    "Define la serie de pesos como serie de pandas y determina el rango del máximo menos el mínimo:\n",
    "\n",
    "56, 67, 89, 45, 72, 84, 98, 102, 67, 45, 56, 75, 67, 45, 95, 72, 64, 56, 84"
   ]
  },
  {
   "cell_type": "markdown",
   "id": "bcf56a9f",
   "metadata": {},
   "source": [
    "### E079. Rango de salarios\n",
    "\n",
    "Define la serie de salarios como serie de pandas y determina el rango del máximo menos el mínimo:\n",
    "\n",
    "15300, 14800, 19200, 23600, 45700, 32900, 21500, 67800, 8500, 12200, 14500, 18600"
   ]
  },
  {
   "cell_type": "markdown",
   "id": "86d9cc0e",
   "metadata": {},
   "source": [
    "### E080. Rango de tiempos de espera\n",
    "\n",
    "Define la serie de tiempos de espera en minutos como serie de pandas y determina el rango del máximo menos el mínimo:\n",
    "\n",
    "17, 25, 19, 23, 25, 10, 8, 14, 11, 15, 9, 36, 5, 8, 9, 12"
   ]
  },
  {
   "cell_type": "markdown",
   "id": "f7652602",
   "metadata": {},
   "source": [
    "## Ejercicios sobre cuantil inferior y superior"
   ]
  },
  {
   "cell_type": "markdown",
   "id": "226f1a59",
   "metadata": {},
   "source": [
    "### E081. Percentil inferior y superior de temperaturas\n",
    "\n",
    "Define la serie de temperaturas como serie de pandas y determina cuantil 0.05 y el 0.95:\n",
    "\n",
    "25, 23, 24, 26, 22, 23, 25, 23, 21, 20, 18, 25, 21, 23, 29, 16, 23"
   ]
  },
  {
   "cell_type": "markdown",
   "id": "0bba1765",
   "metadata": {},
   "source": [
    "### E082. Percentil inferior y superior de estaturas\n",
    "\n",
    "Define la serie de estaturas como serie de pandas y determina cuantil 0.05 y el 0.95:\n",
    "\n",
    "1.78, 1.65, 1.72, 1.73, 1.69, 1.68, 1.56, 1.57, 1.81, 1.76, 1.75, 1.54, 1.51, 1.66, 1.74, 1.62, 1.89"
   ]
  },
  {
   "cell_type": "markdown",
   "id": "6abd13a8",
   "metadata": {},
   "source": [
    "### E083. Percentil inferior y superior de pesos\n",
    "\n",
    "Define la serie de pesos como serie de pandas y determina cuantil 0.05 y el 0.95:\n",
    "\n",
    "56, 67, 89, 45, 72, 84, 98, 102, 67, 45, 56, 75, 67, 45, 95, 72, 64, 56, 84"
   ]
  },
  {
   "cell_type": "markdown",
   "id": "e036ef0f",
   "metadata": {},
   "source": [
    "### E084. Percentil inferior y superior de salarios\n",
    "\n",
    "Define la serie de salarios como serie de pandas y determina cuantil 0.05 y el 0.95:\n",
    "\n",
    "15300, 14800, 19200, 23600, 45700, 32900, 21500, 67800, 8500, 12200, 14500, 18600"
   ]
  },
  {
   "cell_type": "markdown",
   "id": "273d5893",
   "metadata": {},
   "source": [
    "### E085. Percentil inferior y superior de tiempos de espera\n",
    "\n",
    "Define la serie de tiempos de espera en minutos como serie de pandas y determina cuantil 0.05 y el 0.95:\n",
    "\n",
    "17, 25, 19, 23, 25, 10, 8, 14, 11, 15, 9, 36, 5, 8, 9, 12"
   ]
  },
  {
   "cell_type": "markdown",
   "id": "fbb123ad",
   "metadata": {},
   "source": [
    "## Ejercicios sobre rangos ajustados"
   ]
  },
  {
   "cell_type": "markdown",
   "id": "847dff9b",
   "metadata": {},
   "source": [
    "### E086. Rango ajustado de temperaturas\n",
    "\n",
    "Define la serie de temperaturas como serie de pandas y determina el rango del máximo menos el mínimo ajustado al percentil 5% y 95%:\n",
    "\n",
    "25, 23, 24, 26, 22, 23, 25, 23, 21, 20, 18, 25, 21, 23, 29, 16, 23"
   ]
  },
  {
   "cell_type": "markdown",
   "id": "5786705d",
   "metadata": {},
   "source": [
    "### E087. Rango ajustado de estaturas\n",
    "\n",
    "Define la serie de estaturas como serie de pandas y determina el rango del máximo menos el mínimo ajustado al percentil 5% y 95%:\n",
    "\n",
    "1.78, 1.65, 1.72, 1.73, 1.69, 1.68, 1.56, 1.57, 1.81, 1.76, 1.75, 1.54, 1.51, 1.66, 1.74, 1.62, 1.89"
   ]
  },
  {
   "cell_type": "markdown",
   "id": "44266900",
   "metadata": {},
   "source": [
    "### E088. Rango ajustado de pesos\n",
    "\n",
    "Define la serie de pesos como serie de pandas y determina el rango del máximo menos el mínimo ajustado al percentil 5% y 95%:\n",
    "\n",
    "56, 67, 89, 45, 72, 84, 98, 102, 67, 45, 56, 75, 67, 45, 95, 72, 64, 56, 84"
   ]
  },
  {
   "cell_type": "markdown",
   "id": "3bfcda03",
   "metadata": {},
   "source": [
    "### E089. Rango ajustado de salarios\n",
    "\n",
    "Define la serie de salarios como serie de pandas y determina el rango del máximo menos el mínimo ajustado al percentil 5% y 95%:\n",
    "\n",
    "15300, 14800, 19200, 23600, 45700, 32900, 21500, 67800, 8500, 12200, 14500, 18600"
   ]
  },
  {
   "cell_type": "markdown",
   "id": "ca5dab4d",
   "metadata": {},
   "source": [
    "### E090. Rango ajustado de tiempos de espera\n",
    "\n",
    "Define la serie de tiempos de espera en minutos como serie de pandas y determina el rango del máximo menos el mínimo ajustado al percentil 5% y 95%:\n",
    "\n",
    "17, 25, 19, 23, 25, 10, 8, 14, 11, 15, 9, 36, 5, 8, 9, 12"
   ]
  },
  {
   "cell_type": "markdown",
   "id": "4f7a93ec",
   "metadata": {},
   "source": [
    "## Ejercicios sobre operaciones entre series y escalares"
   ]
  },
  {
   "cell_type": "markdown",
   "id": "f6b66a96",
   "metadata": {},
   "source": [
    "### E091. Aumento de temperaturas\n",
    "\n",
    "Define la serie de temperaturas como serie de pandas y determina la temperatura más 273:\n",
    "\n",
    "25, 23, 24, 26, 22, 23, 25, 23, 21, 20, 18, 25, 21, 23, 29, 16, 23"
   ]
  },
  {
   "cell_type": "markdown",
   "id": "704edb4c",
   "metadata": {},
   "source": [
    "### E092. Multiplicación de estaturas\n",
    "\n",
    "Define la serie de estaturas como serie de pandas y multiplica por 100:\n",
    "\n",
    "1.78, 1.65, 1.72, 1.73, 1.69, 1.68, 1.56, 1.57, 1.81, 1.76, 1.75, 1.54, 1.51, 1.66, 1.74, 1.62, 1.89"
   ]
  },
  {
   "cell_type": "markdown",
   "id": "58da5288",
   "metadata": {},
   "source": [
    "### E093. Normalización suave de pesos\n",
    "\n",
    "Define la serie de pesos como serie de pandas y dividelas entre el peso máximo:\n",
    "\n",
    "56, 67, 89, 45, 72, 84, 98, 102, 67, 45, 56, 75, 67, 45, 95, 72, 64, 56, 84"
   ]
  },
  {
   "cell_type": "markdown",
   "id": "7866ca7e",
   "metadata": {},
   "source": [
    "### E094. Normalización min-max de salarios\n",
    "\n",
    "Define la serie de salarios como serie de pandas, resta el valor mínimo y divide entre el rango:\n",
    "\n",
    "15300, 14800, 19200, 23600, 45700, 32900, 21500, 67800, 8500, 12200, 14500, 18600"
   ]
  },
  {
   "cell_type": "markdown",
   "id": "d67e23c1",
   "metadata": {},
   "source": [
    "### E095. Normalización ajustada de tiempos de espera\n",
    "\n",
    "Define la serie de tiempos de espera en minutos como serie de pandas, resta el mínimo ajustado y divide entre el rango ajustado:\n",
    "\n",
    "17, 25, 19, 23, 25, 10, 8, 14, 11, 15, 9, 36, 5, 8, 9, 12"
   ]
  },
  {
   "cell_type": "markdown",
   "id": "b1fee92d",
   "metadata": {},
   "source": [
    "## Ejercicios sobre operaciones entre series"
   ]
  }
 ],
 "metadata": {
  "kernelspec": {
   "display_name": "3.10.15",
   "language": "python",
   "name": "python3"
  },
  "language_info": {
   "codemirror_mode": {
    "name": "ipython",
    "version": 3
   },
   "file_extension": ".py",
   "mimetype": "text/x-python",
   "name": "python",
   "nbconvert_exporter": "python",
   "pygments_lexer": "ipython3",
   "version": "3.10.15"
  }
 },
 "nbformat": 4,
 "nbformat_minor": 5
}
